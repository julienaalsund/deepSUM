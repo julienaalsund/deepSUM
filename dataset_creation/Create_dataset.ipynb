{
 "cells": [
  {
   "cell_type": "code",
   "execution_count": 1,
   "metadata": {},
   "outputs": [
    {
     "name": "stdout",
     "output_type": "stream",
     "text": [
      "\n",
      "WARNING: The TensorFlow contrib module will not be included in TensorFlow 2.0.\n",
      "For more information, please see:\n",
      "  * https://github.com/tensorflow/community/blob/master/rfcs/20180907-contrib-sunset.md\n",
      "  * https://github.com/tensorflow/addons\n",
      "If you depend on functionality not listed there, please file an issue.\n",
      "\n"
     ]
    }
   ],
   "source": [
    "import sys\n",
    "sys.path.insert(0, '../libraries')\n",
    "\n",
    "\n",
    "from dataloader import load_dataset,create_patch_dataset_return_shifts\n",
    "from utils import safe_mkdir,upsampling_without_aggregation_all_imageset,upsampling_mask_all_imageset,registration_imageset_against_best_image_without_union_mask\n",
    "import numpy as np\n",
    "import pandas as pd\n",
    "from skimage.feature import register_translation\n",
    "import os\n",
    "import glob\n",
    "from collections import defaultdict\n",
    "%reload_ext autoreload\n",
    "%autoreload 2\n"
   ]
  },
  {
   "cell_type": "code",
   "execution_count": 2,
   "metadata": {},
   "outputs": [],
   "source": [
    "dir_pickles_probav='./pickles/'\n",
    "out_dataset='./dataset'\n",
    "safe_mkdir(out_dataset)\n",
    "base_dir='./probav_data'\n",
    "#base_dir='/home/bordone/Superresolution/data/probav_data/'"
   ]
  },
  {
   "cell_type": "markdown",
   "metadata": {},
   "source": [
    "# For TRAINING Upsampling network NIR channel"
   ]
  },
  {
   "cell_type": "code",
   "execution_count": 5,
   "metadata": {},
   "outputs": [],
   "source": [
    "split=0.7\n",
    "band='NIR'\n",
    "input_images_LR = np.load(os.path.join(dir_pickles_probav, 'LR_dataset_{0}.npy'.format(band)))\n",
    "mask_LR = np.load(os.path.join(dir_pickles_probav, 'LR_mask_{0}.npy'.format(band)))\n",
    "input_images_HR = np.load(os.path.join(dir_pickles_probav, 'HR_dataset_{0}.npy'.format(band)))\n",
    "mask_HR = np.load(os.path.join(dir_pickles_probav, 'HR_mask_{0}.npy'.format(band)))\n",
    "\n",
    "#To Compute the PSNR\n",
    "#norm baseline for each imageset to normalize cPSNR\n",
    "df_norm=pd.read_csv(os.path.join(base_dir, 'norm.csv'),sep=' ',header=None)\n",
    "df_norm.columns=['set','norm']\n",
    "train_dir = os.path.join(base_dir, 'train/{0}'.format(band))\n",
    "dir_list=sorted([os.path.basename(x) for x in glob.glob(train_dir+'/imgset*')])\n",
    "norm=df_norm.loc[df_norm['set'].isin(dir_list)]['norm'].values\n",
    "norm=norm.reshape([norm.shape[0],1])\n",
    "\n",
    "from sklearn.utils import shuffle\n",
    "\n",
    "input_images_LR,mask_LR,input_images_HR,mask_HR,norm = shuffle(input_images_LR,\n",
    "                                                          mask_LR,\n",
    "                                                          input_images_HR,\n",
    "                                                          mask_HR, \n",
    "                                                          norm,\n",
    "                                                          random_state=1)\n",
    "\n",
    "#Split training set and validation set\n",
    "N_training_samples=int(split*len(input_images_LR))\n",
    "input_images_LR_train,input_images_LR_valid=input_images_LR[0:N_training_samples],input_images_LR[N_training_samples:]\n",
    "mask_LR_train,mask_LR_valid=mask_LR[0:N_training_samples],mask_LR[N_training_samples:]\n",
    "input_images_HR_train,input_images_HR_valid=input_images_HR[0:N_training_samples],input_images_HR[N_training_samples:]\n",
    "mask_HR_train,mask_HR_valid=mask_HR[0:N_training_samples],mask_HR[N_training_samples:]\n",
    "\n",
    "norm_training,norm_validation=norm[0:N_training_samples],norm[N_training_samples:]"
   ]
  },
  {
   "cell_type": "markdown",
   "metadata": {},
   "source": [
    "### Have a look at a LR image"
   ]
  },
  {
   "cell_type": "code",
   "execution_count": 6,
   "metadata": {},
   "outputs": [
    {
     "data": {
      "image/png": "[encoded data removed]",
      "text/plain": [
       "<Figure size 360x360 with 1 Axes>"
      ]
     },
     "metadata": {},
     "output_type": "display_data"
    }
   ],
   "source": [
    "import matplotlib.pyplot as plt\n",
    "plt.figure(figsize=[5,5])\n",
    "plt.imshow((input_images_LR_train[0][16]).squeeze(), cmap = 'gray', interpolation = 'none')\n",
    "plt.xticks([]), plt.yticks([])  # to hide tick values on X and Y axis\n",
    "plt.show()"
   ]
  },
  {
   "cell_type": "markdown",
   "metadata": {},
   "source": [
    "# Pre-processing, hidden regions, bad intensity values"
   ]
  },
  {
   "cell_type": "code",
   "execution_count": 7,
   "metadata": {},
   "outputs": [],
   "source": [
    "#transform in a list of numpy\n",
    "input_images_LR_train=np.array([np.array(x) for x in input_images_LR_train])\n",
    "mask_LR_train=np.array([np.array(x) for x in mask_LR_train])"
   ]
  },
  {
   "cell_type": "markdown",
   "metadata": {},
   "source": [
    "### The images are supposed to be over 14 bits, but there many images with values > 2^14 -1\n",
    "### Removing all images in which we find at least one pixel > 60000."
   ]
  },
  {
   "cell_type": "code",
   "execution_count": 8,
   "metadata": {},
   "outputs": [],
   "source": [
    "#Find the indexes to remove with very high pixels\n",
    "images_to_remove=[[i,j] for i,x in enumerate(input_images_LR_train) for j,z in enumerate(x) if (z>60000).any() ]\n",
    "#generate dictionary with as key the index of the imageset and as value a list of indexes correpsonding to images\n",
    "# to remove of that specific imageset\n",
    "d=defaultdict(list)\n",
    "for i in images_to_remove:\n",
    "    d[i[0]].append(i[1])"
   ]
  },
  {
   "cell_type": "code",
   "execution_count": 9,
   "metadata": {},
   "outputs": [],
   "source": [
    "for i in d.keys():\n",
    "    input_images_LR_train[i]\\\n",
    "    =np.delete(input_images_LR_train[i],d[i],axis=0)\n",
    "    \n",
    "    mask_LR_train[i]\\\n",
    "    =np.delete(mask_LR_train[i],d[i],axis=0)"
   ]
  },
  {
   "cell_type": "markdown",
   "metadata": {},
   "source": [
    "### How many imagesets have less than 9 images , now that we have removed the bad registered images"
   ]
  },
  {
   "cell_type": "code",
   "execution_count": 10,
   "metadata": {},
   "outputs": [
    {
     "data": {
      "text/plain": [
       "[(8, 128, 128), (7, 128, 128), (8, 128, 128), (8, 128, 128)]"
      ]
     },
     "execution_count": 10,
     "metadata": {},
     "output_type": "execute_result"
    }
   ],
   "source": [
    "[x.shape for x in input_images_LR_train if x.shape[0]<9]"
   ]
  },
  {
   "cell_type": "markdown",
   "metadata": {},
   "source": [
    "### Remove them LR images, LR masks and HR images and HR masks"
   ]
  },
  {
   "cell_type": "code",
   "execution_count": 11,
   "metadata": {},
   "outputs": [],
   "source": [
    "indexes=[i for i,x in enumerate(input_images_LR_train) if np.array(x).shape[0]<9]\n",
    "\n",
    "#LR\n",
    "input_images_LR_train=np.delete(input_images_LR_train,indexes,axis=0)\n",
    "mask_LR_train=np.delete(mask_LR_train,indexes,axis=0)\n",
    "\n",
    "#HR\n",
    "input_images_HR_train=np.delete(input_images_HR_train,indexes,axis=0)\n",
    "mask_HR_train=np.delete(mask_HR_train,indexes,axis=0)"
   ]
  },
  {
   "cell_type": "markdown",
   "metadata": {},
   "source": [
    "## Upsampling\n",
    "\n",
    "### Upsampling batch training set"
   ]
  },
  {
   "cell_type": "markdown",
   "metadata": {},
   "source": [
    "The goal is to upsample all LR images of each imageset loaded from pickles"
   ]
  },
  {
   "cell_type": "code",
   "execution_count": 12,
   "metadata": {},
   "outputs": [],
   "source": [
    "input_images_LR_train_upsample=upsampling_without_aggregation_all_imageset(input_images_LR_train,scale=3)"
   ]
  },
  {
   "cell_type": "markdown",
   "metadata": {},
   "source": [
    "### Upsampling masks corresponding to training set"
   ]
  },
  {
   "cell_type": "code",
   "execution_count": 13,
   "metadata": {},
   "outputs": [],
   "source": [
    "mask_LR_train_upsample=upsampling_mask_all_imageset(mask_LR_train,scale=3)"
   ]
  },
  {
   "cell_type": "markdown",
   "metadata": {},
   "source": [
    "### Register imageset and mask\n",
    "\n"
   ]
  },
  {
   "cell_type": "markdown",
   "metadata": {},
   "source": [
    "#### Registration taking always the most clear image as reference"
   ]
  },
  {
   "cell_type": "code",
   "execution_count": 15,
   "metadata": {},
   "outputs": [],
   "source": [
    "input_images_LR_train_upsample_registered,\\\n",
    "mask_LR_train_upsample_registered,\\\n",
    "shifts,\\\n",
    "new_index_orders=registration_imageset_against_best_image_without_union_mask(input_images_LR_train_upsample,\n",
    "                                                mask_LR_train_upsample,\n",
    "                                                1)\n"
   ]
  },
  {
   "cell_type": "code",
   "execution_count": 16,
   "metadata": {},
   "outputs": [
    {
     "data": {
      "text/plain": [
       "array([18,  0,  1,  2,  3,  4,  5,  6,  7,  8,  9, 10, 11, 12, 13, 14, 15,\n",
       "       16, 17], dtype=int16)"
      ]
     },
     "execution_count": 16,
     "metadata": {},
     "output_type": "execute_result"
    }
   ],
   "source": [
    "new_index_orders[17]"
   ]
  },
  {
   "cell_type": "code",
   "execution_count": 17,
   "metadata": {},
   "outputs": [
    {
     "data": {
      "text/plain": [
       "array([[ 0.,  0.],\n",
       "       [ 0.,  0.],\n",
       "       [ 0.,  0.],\n",
       "       [-1.,  0.],\n",
       "       [ 0.,  0.],\n",
       "       [ 0.,  0.],\n",
       "       [ 0.,  0.],\n",
       "       [ 0.,  0.],\n",
       "       [ 0.,  0.],\n",
       "       [-1.,  0.],\n",
       "       [ 0.,  0.],\n",
       "       [ 0.,  0.],\n",
       "       [ 0.,  0.],\n",
       "       [-1.,  0.],\n",
       "       [ 0.,  0.],\n",
       "       [-1.,  0.],\n",
       "       [ 0.,  0.],\n",
       "       [ 0.,  0.],\n",
       "       [-1.,  0.]])"
      ]
     },
     "execution_count": 17,
     "metadata": {},
     "output_type": "execute_result"
    }
   ],
   "source": [
    "shifts[17]"
   ]
  },
  {
   "cell_type": "code",
   "execution_count": 18,
   "metadata": {},
   "outputs": [],
   "source": [
    "#transform in a list of numpy\n",
    "input_images_LR_train_upsample=np.array([np.array(x) for x in input_images_LR_train_upsample])\n",
    "mask_LR_train_upsample=np.array([np.array(x) for x in mask_LR_train_upsample])"
   ]
  },
  {
   "cell_type": "code",
   "execution_count": 19,
   "metadata": {},
   "outputs": [],
   "source": [
    "#Reorder the training set not upsampled and not registered the way the training upsdampled and registered has been ordered\n",
    "#so that it matched the ordering of the shifts we computed during registration\n",
    "\n",
    "input_images_LR_train_upsample=[imageset[new_index_orders[i]] for i,imageset in enumerate(input_images_LR_train_upsample)]\n",
    "mask_LR_train_upsample=[imageset[new_index_orders[i]] for i,imageset in enumerate(mask_LR_train_upsample)]\n"
   ]
  },
  {
   "cell_type": "code",
   "execution_count": 20,
   "metadata": {},
   "outputs": [],
   "source": [
    "#Find the indexes to remove considering we want to keep up to 4 pixel shift. \n",
    "images_to_remove=[[i,j,z] for i,x in enumerate(shifts) for j,z in enumerate(x) if (np.abs(z)>4).any() ]\n",
    "#generate dictionary with as key the index of the imageset and as value a list of indexes correpsonding to images\n",
    "# to remove of that specific imageset\n",
    "from collections import defaultdict\n",
    "\n",
    "d=defaultdict(list)\n",
    "\n",
    "for i in images_to_remove:\n",
    "    d[i[0]].append(i[1])\n",
    "    \n"
   ]
  },
  {
   "cell_type": "code",
   "execution_count": 21,
   "metadata": {
    "scrolled": true
   },
   "outputs": [
    {
     "data": {
      "text/plain": [
       "defaultdict(list,\n",
       "            {3: [13],\n",
       "             11: [16],\n",
       "             21: [4, 5, 9, 13],\n",
       "             23: [1],\n",
       "             34: [10, 13],\n",
       "             44: [16],\n",
       "             59: [4, 11, 17],\n",
       "             63: [3],\n",
       "             65: [18],\n",
       "             80: [16],\n",
       "             87: [1],\n",
       "             96: [16],\n",
       "             100: [11],\n",
       "             110: [12],\n",
       "             116: [6],\n",
       "             117: [5],\n",
       "             120: [5],\n",
       "             121: [12],\n",
       "             131: [9, 15],\n",
       "             139: [9],\n",
       "             143: [16, 22],\n",
       "             162: [14],\n",
       "             165: [16],\n",
       "             172: [13, 20],\n",
       "             174: [4],\n",
       "             175: [19],\n",
       "             181: [2, 13, 17, 25, 26, 27],\n",
       "             187: [11, 26],\n",
       "             190: [14],\n",
       "             191: [18],\n",
       "             193: [7, 15],\n",
       "             197: [17],\n",
       "             206: [13],\n",
       "             208: [5],\n",
       "             214: [11, 14],\n",
       "             218: [6],\n",
       "             221: [18],\n",
       "             222: [15],\n",
       "             234: [5],\n",
       "             248: [5],\n",
       "             254: [5],\n",
       "             259: [10],\n",
       "             275: [2],\n",
       "             278: [6],\n",
       "             281: [12],\n",
       "             285: [17],\n",
       "             288: [19],\n",
       "             291: [14],\n",
       "             302: [9],\n",
       "             310: [1],\n",
       "             323: [2, 3, 11, 12],\n",
       "             324: [3, 12],\n",
       "             327: [5],\n",
       "             342: [7],\n",
       "             343: [7, 10],\n",
       "             365: [4],\n",
       "             366: [2],\n",
       "             375: [4],\n",
       "             377: [4, 13],\n",
       "             380: [8],\n",
       "             384: [10]})"
      ]
     },
     "execution_count": 21,
     "metadata": {},
     "output_type": "execute_result"
    }
   ],
   "source": [
    "d"
   ]
  },
  {
   "cell_type": "markdown",
   "metadata": {},
   "source": [
    "### Remove the images from LR images"
   ]
  },
  {
   "cell_type": "code",
   "execution_count": 22,
   "metadata": {},
   "outputs": [],
   "source": [
    "for i in d.keys():\n",
    "    input_images_LR_train_upsample[i]\\\n",
    "    =np.delete(input_images_LR_train_upsample[i],d[i],axis=0)\n",
    "    \n",
    "    mask_LR_train_upsample[i]\\\n",
    "    =np.delete(mask_LR_train_upsample[i],d[i],axis=0)\n"
   ]
  },
  {
   "cell_type": "markdown",
   "metadata": {},
   "source": [
    "### How many imagesets have less than 9 images , now that we have removed the bad registered images"
   ]
  },
  {
   "cell_type": "code",
   "execution_count": 23,
   "metadata": {},
   "outputs": [
    {
     "data": {
      "text/plain": [
       "[(8, 384, 384)]"
      ]
     },
     "execution_count": 23,
     "metadata": {},
     "output_type": "execute_result"
    }
   ],
   "source": [
    "[x.shape for x in input_images_LR_train_upsample if x.shape[0]<9]"
   ]
  },
  {
   "cell_type": "code",
   "execution_count": 24,
   "metadata": {},
   "outputs": [
    {
     "data": {
      "text/plain": [
       "1"
      ]
     },
     "execution_count": 24,
     "metadata": {},
     "output_type": "execute_result"
    }
   ],
   "source": [
    "len([x.shape for x in input_images_LR_train_upsample if x.shape[0]<9])"
   ]
  },
  {
   "cell_type": "markdown",
   "metadata": {},
   "source": [
    "### Remove them LR images, LR masks and HR images and HR masks"
   ]
  },
  {
   "cell_type": "code",
   "execution_count": 25,
   "metadata": {},
   "outputs": [],
   "source": [
    "indexes=[i for i,x in enumerate(input_images_LR_train_upsample) if np.array(x).shape[0]<9]\n",
    "\n",
    "#LR\n",
    "input_images_LR_train_upsample=np.delete(input_images_LR_train_upsample,indexes,axis=0)\n",
    "mask_LR_train_upsample=np.delete(mask_LR_train_upsample,indexes,axis=0)\n",
    "\n",
    "#HR\n",
    "input_images_HR_train=np.delete(input_images_HR_train,indexes,axis=0)\n",
    "mask_HR_train=np.delete(mask_HR_train,indexes,axis=0)"
   ]
  },
  {
   "cell_type": "code",
   "execution_count": 26,
   "metadata": {},
   "outputs": [
    {
     "data": {
      "text/plain": [
       "[23]"
      ]
     },
     "execution_count": 26,
     "metadata": {},
     "output_type": "execute_result"
    }
   ],
   "source": [
    "indexes"
   ]
  },
  {
   "cell_type": "code",
   "execution_count": 27,
   "metadata": {},
   "outputs": [],
   "source": [
    "# Update also shifts array\n",
    "for i in d.keys():\n",
    "    shifts[i]\\\n",
    "    =np.delete(shifts[i],d[i],axis=0)\n",
    "\n",
    "shifts=np.delete(shifts,indexes,axis=0)"
   ]
  },
  {
   "cell_type": "markdown",
   "metadata": {},
   "source": [
    "### Statistics about the shifts"
   ]
  },
  {
   "cell_type": "code",
   "execution_count": 28,
   "metadata": {},
   "outputs": [
    {
     "data": {
      "text/plain": [
       "4047"
      ]
     },
     "execution_count": 28,
     "metadata": {},
     "output_type": "execute_result"
    }
   ],
   "source": [
    "len([[i,j,z] for i,x in enumerate(shifts) for j,z in enumerate(x) if (np.abs(z)==0).all() ])"
   ]
  },
  {
   "cell_type": "code",
   "execution_count": 29,
   "metadata": {},
   "outputs": [
    {
     "data": {
      "text/plain": [
       "7247"
      ]
     },
     "execution_count": 29,
     "metadata": {},
     "output_type": "execute_result"
    }
   ],
   "source": [
    "len([[i,j,z] for i,x in enumerate(shifts) for j,z in enumerate(x) if (np.abs(z)>=0).any() ])"
   ]
  },
  {
   "cell_type": "markdown",
   "metadata": {},
   "source": [
    "### Create patches from the upsamled LR images and save npy "
   ]
  },
  {
   "cell_type": "code",
   "execution_count": 30,
   "metadata": {},
   "outputs": [
    {
     "name": "stderr",
     "output_type": "stream",
     "text": [
      "[========================================================================] 100%\n",
      "[========================================================================] 100%\n",
      "[========================================================================] 100%\n",
      "[========================================================================] 100%\n",
      "[========================================================================] 100%\n"
     ]
    }
   ],
   "source": [
    "n_chuncks=5\n",
    "for i in range(n_chuncks):\n",
    "    dataset_patch=create_patch_dataset_return_shifts(input_images_LR_train_upsample,\n",
    "                                                     input_images_HR_train,\n",
    "                                                     mask_LR_train_upsample,\n",
    "                                                     mask_HR_train,\n",
    "                                                     shifts,\n",
    "                                                     patch_size=96,\n",
    "                                                     num_patches_per_set=20,\n",
    "                                                     scale=1,\n",
    "                                                     smart_patching=True\n",
    "                                                     )\n",
    "    \n",
    "    input_images_LR_patch=dataset_patch['training_patch']\n",
    "    input_images_HR_patch=dataset_patch['training_y_patch']\n",
    "    mask_LR_patch=dataset_patch['training_mask_patch']\n",
    "    mask_HR_patch=dataset_patch['training_mask_y_patch']\n",
    "    shifts_patch=dataset_patch['shifts']\n",
    "    coordinates=dataset_patch['coordinates']\n",
    "    \n",
    "    np.save(os.path.join(out_dataset,'{0}_dataset_{1}_patch_LR.npy'.format(i,band)),input_images_LR_patch,allow_pickle=True)\n",
    "    np.save(os.path.join(out_dataset,'{0}_dataset_{1}_patch_HR.npy'.format(i,band)),input_images_HR_patch,allow_pickle=True)\n",
    "    np.save(os.path.join(out_dataset,'{0}_dataset_{1}_patch_mask_LR.npy'.format(i,band)),mask_LR_patch,allow_pickle=True)\n",
    "    np.save(os.path.join(out_dataset,'{0}_dataset_{1}_patch_mask_HR.npy'.format(i,band)),mask_HR_patch,allow_pickle=True)\n",
    "    np.save(os.path.join(out_dataset,'{0}_shifts_patch_{1}.npy'.format(i,band)),shifts_patch,allow_pickle=True)\n",
    "    np.save(os.path.join(out_dataset,'{0}_coordinates_{1}.npy'.format(i,band)),coordinates,allow_pickle=True)\n",
    "    "
   ]
  },
  {
   "cell_type": "code",
   "execution_count": 31,
   "metadata": {},
   "outputs": [
    {
     "data": {
      "image/png": "[encoded data removed]",
      "text/plain": [
       "<Figure size 360x360 with 1 Axes>"
      ]
     },
     "metadata": {},
     "output_type": "display_data"
    }
   ],
   "source": [
    "import matplotlib.pyplot as plt\n",
    "plt.figure(figsize=[5,5])\n",
    "plt.imshow((input_images_LR_patch[14][8]).squeeze(), cmap = 'gray', interpolation = 'none')\n",
    "plt.xticks([]), plt.yticks([])  # to hide tick values on X and Y axis\n",
    "plt.show()"
   ]
  },
  {
   "cell_type": "code",
   "execution_count": 32,
   "metadata": {},
   "outputs": [
    {
     "data": {
      "image/png": "[encoded data removed]",
      "text/plain": [
       "<Figure size 360x360 with 1 Axes>"
      ]
     },
     "metadata": {},
     "output_type": "display_data"
    }
   ],
   "source": [
    "import matplotlib.pyplot as plt\n",
    "plt.figure(figsize=[5,5])\n",
    "plt.imshow((input_images_LR_patch[14][13]).squeeze(), cmap = 'gray', interpolation = 'none')\n",
    "plt.xticks([]), plt.yticks([])  # to hide tick values on X and Y axis\n",
    "plt.show()"
   ]
  },
  {
   "cell_type": "code",
   "execution_count": 33,
   "metadata": {},
   "outputs": [
    {
     "data": {
      "image/png": "[encoded data removed]",
      "text/plain": [
       "<Figure size 360x360 with 1 Axes>"
      ]
     },
     "metadata": {},
     "output_type": "display_data"
    }
   ],
   "source": [
    "import matplotlib.pyplot as plt\n",
    "plt.figure(figsize=[5,5])\n",
    "plt.imshow((mask_LR_patch[14][13]).squeeze(), cmap = 'gray', interpolation = 'none')\n",
    "plt.xticks([]), plt.yticks([])  # to hide tick values on X and Y axis\n",
    "plt.show()"
   ]
  },
  {
   "cell_type": "code",
   "execution_count": 34,
   "metadata": {},
   "outputs": [
    {
     "data": {
      "image/png": "[encoded data removed]",
      "text/plain": [
       "<Figure size 360x360 with 1 Axes>"
      ]
     },
     "metadata": {},
     "output_type": "display_data"
    }
   ],
   "source": [
    "import matplotlib.pyplot as plt\n",
    "plt.figure(figsize=[5,5])\n",
    "plt.imshow((mask_LR_patch[23][0]).squeeze(), cmap = 'gray', interpolation = 'none')\n",
    "plt.xticks([]), plt.yticks([])  # to hide tick values on X and Y axis\n",
    "plt.show()"
   ]
  },
  {
   "cell_type": "code",
   "execution_count": 35,
   "metadata": {},
   "outputs": [
    {
     "data": {
      "image/png": "[encoded data removed]",
      "text/plain": [
       "<Figure size 360x360 with 1 Axes>"
      ]
     },
     "metadata": {},
     "output_type": "display_data"
    }
   ],
   "source": [
    "import matplotlib.pyplot as plt\n",
    "plt.figure(figsize=[5,5])\n",
    "plt.imshow((input_images_HR_patch[14]).squeeze(), cmap = 'gray', interpolation = 'none')\n",
    "plt.xticks([]), plt.yticks([])  # to hide tick values on X and Y axis\n",
    "plt.show()"
   ]
  },
  {
   "cell_type": "markdown",
   "metadata": {},
   "source": [
    "# For Validation Upsampling network NIR channel"
   ]
  },
  {
   "cell_type": "code",
   "execution_count": 36,
   "metadata": {},
   "outputs": [],
   "source": [
    "#transform in a list of numpy\n",
    "input_images_LR_valid=np.array([np.array(x) for x in input_images_LR_valid])\n",
    "mask_LR_valid=np.array([np.array(x) for x in mask_LR_valid])"
   ]
  },
  {
   "cell_type": "markdown",
   "metadata": {},
   "source": [
    "### Removing all images in which we find at least one pixel > 65000"
   ]
  },
  {
   "cell_type": "code",
   "execution_count": 37,
   "metadata": {},
   "outputs": [],
   "source": [
    "#Find the indexes to remove with very high pixels\n",
    "images_to_remove=[[i,j] for i,x in enumerate(input_images_LR_valid) for j,z in enumerate(x) if (z>60000).any() ]\n",
    "#generate dictionary with as key the index of the imageset and as value a list of indexes correpsonding to images\n",
    "# to remove of that specific imageset\n",
    "from collections import defaultdict\n",
    "\n",
    "d=defaultdict(list)\n",
    "\n",
    "for i in images_to_remove:\n",
    "    d[i[0]].append(i[1])\n",
    "    \n"
   ]
  },
  {
   "cell_type": "code",
   "execution_count": 38,
   "metadata": {
    "scrolled": true
   },
   "outputs": [
    {
     "data": {
      "text/plain": [
       "defaultdict(list,\n",
       "            {0: [15],\n",
       "             1: [15],\n",
       "             3: [1],\n",
       "             4: [7, 10],\n",
       "             5: [14],\n",
       "             6: [9, 13],\n",
       "             7: [4, 7, 13],\n",
       "             14: [6],\n",
       "             15: [9],\n",
       "             16: [3],\n",
       "             17: [5],\n",
       "             22: [2],\n",
       "             24: [6, 9],\n",
       "             25: [8, 14],\n",
       "             26: [8],\n",
       "             28: [3, 18],\n",
       "             29: [13],\n",
       "             31: [6, 12],\n",
       "             32: [5, 13],\n",
       "             33: [0, 2],\n",
       "             35: [8],\n",
       "             36: [11],\n",
       "             39: [6, 13],\n",
       "             40: [9],\n",
       "             42: [22],\n",
       "             43: [4, 10],\n",
       "             45: [5, 9],\n",
       "             46: [5],\n",
       "             49: [2],\n",
       "             50: [0, 6, 16],\n",
       "             51: [9],\n",
       "             55: [2],\n",
       "             59: [9],\n",
       "             62: [2],\n",
       "             63: [0],\n",
       "             64: [1, 4],\n",
       "             67: [0],\n",
       "             68: [4],\n",
       "             74: [4],\n",
       "             78: [0],\n",
       "             79: [18],\n",
       "             80: [12, 17, 18],\n",
       "             84: [3],\n",
       "             85: [10],\n",
       "             91: [10],\n",
       "             92: [4],\n",
       "             93: [6, 11],\n",
       "             94: [8],\n",
       "             95: [17],\n",
       "             96: [2],\n",
       "             97: [12, 23],\n",
       "             98: [2],\n",
       "             100: [17, 19],\n",
       "             102: [11],\n",
       "             103: [9],\n",
       "             105: [5, 19],\n",
       "             107: [10],\n",
       "             108: [6],\n",
       "             111: [16],\n",
       "             112: [2, 4, 6],\n",
       "             114: [0, 12],\n",
       "             116: [5],\n",
       "             117: [5, 10],\n",
       "             118: [13],\n",
       "             119: [2],\n",
       "             121: [5],\n",
       "             127: [2, 3, 4, 22],\n",
       "             129: [12],\n",
       "             130: [4, 5, 8],\n",
       "             131: [6, 10],\n",
       "             134: [0],\n",
       "             137: [16, 18],\n",
       "             138: [6],\n",
       "             139: [15],\n",
       "             141: [14],\n",
       "             142: [13, 18],\n",
       "             143: [12],\n",
       "             144: [3],\n",
       "             146: [2],\n",
       "             152: [15],\n",
       "             153: [4, 12],\n",
       "             156: [12],\n",
       "             157: [1],\n",
       "             159: [0, 7],\n",
       "             160: [2, 8],\n",
       "             161: [13],\n",
       "             162: [0, 2, 10],\n",
       "             163: [6, 14],\n",
       "             164: [0, 6, 12, 16],\n",
       "             166: [5, 7, 11],\n",
       "             167: [5, 17],\n",
       "             168: [0, 11, 14]})"
      ]
     },
     "execution_count": 38,
     "metadata": {},
     "output_type": "execute_result"
    }
   ],
   "source": [
    "d"
   ]
  },
  {
   "cell_type": "code",
   "execution_count": 39,
   "metadata": {},
   "outputs": [],
   "source": [
    "for i in d.keys():\n",
    "    input_images_LR_valid[i]\\\n",
    "    =np.delete(input_images_LR_valid[i],d[i],axis=0)\n",
    "    \n",
    "    mask_LR_valid[i]\\\n",
    "    =np.delete(mask_LR_valid[i],d[i],axis=0)"
   ]
  },
  {
   "cell_type": "markdown",
   "metadata": {},
   "source": [
    "### How many imagesets have less than 9 images , now that we have removed the bad registered images"
   ]
  },
  {
   "cell_type": "code",
   "execution_count": 40,
   "metadata": {},
   "outputs": [
    {
     "data": {
      "text/plain": [
       "[]"
      ]
     },
     "execution_count": 40,
     "metadata": {},
     "output_type": "execute_result"
    }
   ],
   "source": [
    "[x.shape for x in input_images_LR_valid if x.shape[0]<9]"
   ]
  },
  {
   "cell_type": "markdown",
   "metadata": {},
   "source": [
    "### Remove them LR images, LR masks and HR images and HR masks"
   ]
  },
  {
   "cell_type": "code",
   "execution_count": 41,
   "metadata": {},
   "outputs": [],
   "source": [
    "indexes=[i for i,x in enumerate(input_images_LR_valid) if np.array(x).shape[0]<9]\n",
    "\n",
    "#LR\n",
    "input_images_LR_valid=np.delete(input_images_LR_valid,indexes,axis=0)\n",
    "mask_LR_valid=np.delete(mask_LR_valid,indexes,axis=0)\n",
    "\n",
    "#HR\n",
    "input_images_HR_valid=np.delete(input_images_HR_valid,indexes,axis=0)\n",
    "mask_HR_valid=np.delete(mask_HR_valid,indexes,axis=0)"
   ]
  },
  {
   "cell_type": "code",
   "execution_count": 42,
   "metadata": {},
   "outputs": [],
   "source": [
    "#update the baseline normalization\n",
    "norm_validation=np.delete(norm_validation,indexes,axis=0)"
   ]
  },
  {
   "cell_type": "markdown",
   "metadata": {},
   "source": [
    "## Upsampling"
   ]
  },
  {
   "cell_type": "markdown",
   "metadata": {},
   "source": [
    "### Upsampling batch training set"
   ]
  },
  {
   "cell_type": "markdown",
   "metadata": {},
   "source": [
    "The goal is to upsample all LR images of each imageset loaded from pickles"
   ]
  },
  {
   "cell_type": "code",
   "execution_count": 43,
   "metadata": {},
   "outputs": [],
   "source": [
    "input_images_LR_valid_upsample=upsampling_without_aggregation_all_imageset(input_images_LR_valid,scale=3)"
   ]
  },
  {
   "cell_type": "markdown",
   "metadata": {},
   "source": [
    "### Upsampling masks corresponding to training set"
   ]
  },
  {
   "cell_type": "code",
   "execution_count": 44,
   "metadata": {},
   "outputs": [],
   "source": [
    "mask_LR_valid_upsample=upsampling_mask_all_imageset(mask_LR_valid,scale=3)"
   ]
  },
  {
   "cell_type": "markdown",
   "metadata": {},
   "source": [
    "### Register imageset and mask"
   ]
  },
  {
   "cell_type": "code",
   "execution_count": 48,
   "metadata": {},
   "outputs": [],
   "source": [
    "input_images_LR_valid_upsample_registered,\\\n",
    "mask_LR_valid_upsample_registered,\\\n",
    "shifts_valid,\\\n",
    "new_index_orders_valid=registration_imageset_against_best_image_without_union_mask(input_images_LR_valid_upsample,\n",
    "                                                mask_LR_valid_upsample,\n",
    "                                                1)\n",
    "\n",
    "\n"
   ]
  },
  {
   "cell_type": "code",
   "execution_count": 49,
   "metadata": {},
   "outputs": [],
   "source": [
    "#transform in a list of numpy\n",
    "input_images_LR_valid_upsample=np.array([np.array(x) for x in input_images_LR_valid_upsample])\n",
    "mask_LR_valid_upsample=np.array([np.array(x) for x in mask_LR_valid_upsample])"
   ]
  },
  {
   "cell_type": "code",
   "execution_count": 50,
   "metadata": {},
   "outputs": [],
   "source": [
    "#Reorder the training set not upsampled and not registered the way the training upsdampled and registered has been ordered\n",
    "#so that it matched the ordering of the shifts we computed during registration\n",
    "\n",
    "input_images_LR_valid_upsample=[imageset[new_index_orders_valid[i]] for i,imageset in enumerate(input_images_LR_valid_upsample)]\n",
    "mask_LR_valid_upsample=[imageset[new_index_orders_valid[i]] for i,imageset in enumerate(mask_LR_valid_upsample)]\n"
   ]
  },
  {
   "cell_type": "code",
   "execution_count": 51,
   "metadata": {},
   "outputs": [],
   "source": [
    "# Find the indexes to remove\n",
    "\n",
    "images_to_remove=[[i,j,z] for i,x in enumerate(shifts_valid) for j,z in enumerate(x) if (np.abs(z)>4).any() ]\n",
    "#generate dictionary with as key the index of the imageset and as value a list of indexes correpsonding to images\n",
    "# to remove of that specific imageset\n",
    "from collections import defaultdict\n",
    "\n",
    "d=defaultdict(list)\n",
    "\n",
    "for i in images_to_remove:\n",
    "    d[i[0]].append(i[1])\n",
    "    \n"
   ]
  },
  {
   "cell_type": "code",
   "execution_count": 52,
   "metadata": {
    "scrolled": true
   },
   "outputs": [
    {
     "data": {
      "text/plain": [
       "defaultdict(list,\n",
       "            {8: [4],\n",
       "             9: [15],\n",
       "             13: [7],\n",
       "             26: [11],\n",
       "             29: [10, 18],\n",
       "             34: [3],\n",
       "             51: [11],\n",
       "             58: [10, 11],\n",
       "             66: [6],\n",
       "             95: [18],\n",
       "             97: [4, 5],\n",
       "             111: [10, 15],\n",
       "             118: [2, 9, 11],\n",
       "             128: [6, 9],\n",
       "             130: [3, 16],\n",
       "             159: [6, 22],\n",
       "             164: [3, 6],\n",
       "             165: [15]})"
      ]
     },
     "execution_count": 52,
     "metadata": {},
     "output_type": "execute_result"
    }
   ],
   "source": [
    "d"
   ]
  },
  {
   "cell_type": "markdown",
   "metadata": {},
   "source": [
    "### Remove the images from LR images"
   ]
  },
  {
   "cell_type": "code",
   "execution_count": 53,
   "metadata": {},
   "outputs": [],
   "source": [
    "for i in d.keys():\n",
    "    input_images_LR_valid_upsample[i]\\\n",
    "    =np.delete(input_images_LR_valid_upsample[i],d[i],axis=0)\n",
    "    \n",
    "    mask_LR_valid_upsample[i]\\\n",
    "    =np.delete(mask_LR_valid_upsample[i],d[i],axis=0)\n"
   ]
  },
  {
   "cell_type": "markdown",
   "metadata": {},
   "source": [
    "### How many imagesets have less than 9 images , now that we have removed the bad registered images"
   ]
  },
  {
   "cell_type": "code",
   "execution_count": 54,
   "metadata": {},
   "outputs": [
    {
     "data": {
      "text/plain": [
       "[]"
      ]
     },
     "execution_count": 54,
     "metadata": {},
     "output_type": "execute_result"
    }
   ],
   "source": [
    "[x.shape for x in input_images_LR_valid_upsample if x.shape[0]<9]"
   ]
  },
  {
   "cell_type": "code",
   "execution_count": 55,
   "metadata": {},
   "outputs": [
    {
     "data": {
      "text/plain": [
       "0"
      ]
     },
     "execution_count": 55,
     "metadata": {},
     "output_type": "execute_result"
    }
   ],
   "source": [
    "len([x.shape for x in input_images_LR_valid_upsample if x.shape[0]<9])"
   ]
  },
  {
   "cell_type": "markdown",
   "metadata": {},
   "source": [
    "### Remove them"
   ]
  },
  {
   "cell_type": "code",
   "execution_count": 56,
   "metadata": {},
   "outputs": [],
   "source": [
    "indexes=[i for i,x in enumerate(input_images_LR_valid_upsample) if np.array(x).shape[0]<9]\n",
    "\n",
    "#LR\n",
    "input_images_LR_valid_upsample=np.delete(input_images_LR_valid_upsample,indexes,axis=0)\n",
    "mask_LR_valid_upsample=np.delete(mask_LR_valid_upsample,indexes,axis=0)\n",
    "\n",
    "#HR\n",
    "input_images_HR_valid=np.delete(input_images_HR_valid,indexes,axis=0)\n",
    "mask_HR_valid=np.delete(mask_HR_valid,indexes,axis=0)"
   ]
  },
  {
   "cell_type": "code",
   "execution_count": 57,
   "metadata": {},
   "outputs": [
    {
     "data": {
      "text/plain": [
       "[]"
      ]
     },
     "execution_count": 57,
     "metadata": {},
     "output_type": "execute_result"
    }
   ],
   "source": [
    "indexes"
   ]
  },
  {
   "cell_type": "code",
   "execution_count": 58,
   "metadata": {},
   "outputs": [],
   "source": [
    "# Update also shifts array\n",
    "\n",
    "for i in d.keys():\n",
    "    shifts_valid[i]\\\n",
    "    =np.delete(shifts_valid[i],d[i],axis=0)\n",
    "\n",
    "shifts_valid=np.delete(shifts_valid,indexes,axis=0)"
   ]
  },
  {
   "cell_type": "code",
   "execution_count": 59,
   "metadata": {},
   "outputs": [],
   "source": [
    "#update the baseline normalization\n",
    "norm_validation=np.delete(norm_validation,indexes,axis=0)"
   ]
  },
  {
   "cell_type": "markdown",
   "metadata": {},
   "source": [
    "### Save the validation dataset"
   ]
  },
  {
   "cell_type": "code",
   "execution_count": 60,
   "metadata": {},
   "outputs": [],
   "source": [
    "np.save(os.path.join(out_dataset,'dataset_{0}_LR_valid.npy'.format(band)),input_images_LR_valid_upsample,allow_pickle=True)\n",
    "np.save(os.path.join(out_dataset,'dataset_{0}_HR_valid.npy'.format(band)),input_images_HR_valid,allow_pickle=True)\n",
    "np.save(os.path.join(out_dataset,'dataset_{0}_mask_LR_valid.npy'.format(band)),mask_LR_valid_upsample,allow_pickle=True)\n",
    "np.save(os.path.join(out_dataset,'dataset_{0}_mask_HR_valid.npy'.format(band)),mask_HR_valid,allow_pickle=True)\n",
    "np.save(os.path.join(out_dataset,'shifts_valid_{0}.npy'.format(band)),shifts_valid,allow_pickle=True)\n",
    "\n",
    "norm_validation.dump(os.path.join(out_dataset,'norm_'+band+'.npy'))"
   ]
  },
  {
   "cell_type": "code",
   "execution_count": null,
   "metadata": {},
   "outputs": [],
   "source": []
  },
  {
   "cell_type": "code",
   "execution_count": null,
   "metadata": {},
   "outputs": [],
   "source": []
  },
  {
   "cell_type": "markdown",
   "metadata": {},
   "source": [
    "# For TRAINING Upsampling network RED channel"
   ]
  },
  {
   "cell_type": "code",
   "execution_count": 4,
   "metadata": {},
   "outputs": [],
   "source": [
    "split=0.7\n",
    "band='RED'\n",
    "input_images_LR = np.load(os.path.join(dir_pickles_probav, 'LR_dataset_{0}.npy'.format(band)))\n",
    "mask_LR = np.load(os.path.join(dir_pickles_probav, 'LR_mask_{0}.npy'.format(band)))\n",
    "input_images_HR = np.load(os.path.join(dir_pickles_probav, 'HR_dataset_{0}.npy'.format(band)))\n",
    "mask_HR = np.load(os.path.join(dir_pickles_probav, 'HR_mask_{0}.npy'.format(band)))\n",
    "\n",
    "#To Compute the PSNR\n",
    "#norm baseline for each imageset to normalize cPSNR\n",
    "df_norm=pd.read_csv(os.path.join(base_dir, 'norm.csv'),sep=' ',header=None)\n",
    "df_norm.columns=['set','norm']\n",
    "train_dir = os.path.join(base_dir, 'train/{0}'.format(band))\n",
    "dir_list=sorted([os.path.basename(x) for x in glob.glob(train_dir+'/imgset*')])\n",
    "norm=df_norm.loc[df_norm['set'].isin(dir_list)]['norm'].values\n",
    "norm=norm.reshape([norm.shape[0],1])\n",
    "\n",
    "from sklearn.utils import shuffle\n",
    "\n",
    "input_images_LR,mask_LR,input_images_HR,mask_HR,norm = shuffle(input_images_LR,\n",
    "                                                          mask_LR,\n",
    "                                                          input_images_HR,\n",
    "                                                          mask_HR, \n",
    "                                                          norm,\n",
    "                                                          random_state=1)\n",
    "\n",
    "#Split training set and validation set\n",
    "N_training_samples=int(split*len(input_images_LR))\n",
    "input_images_LR_train,input_images_LR_valid=input_images_LR[0:N_training_samples],input_images_LR[N_training_samples:]\n",
    "mask_LR_train,mask_LR_valid=mask_LR[0:N_training_samples],mask_LR[N_training_samples:]\n",
    "input_images_HR_train,input_images_HR_valid=input_images_HR[0:N_training_samples],input_images_HR[N_training_samples:]\n",
    "mask_HR_train,mask_HR_valid=mask_HR[0:N_training_samples],mask_HR[N_training_samples:]\n",
    "\n",
    "norm_training,norm_validation=norm[0:N_training_samples],norm[N_training_samples:]"
   ]
  },
  {
   "cell_type": "markdown",
   "metadata": {},
   "source": [
    "### Have a look at a LR image"
   ]
  },
  {
   "cell_type": "code",
   "execution_count": 5,
   "metadata": {},
   "outputs": [
    {
     "data": {
      "text/plain": [
       "<Figure size 500x500 with 1 Axes>"
      ]
     },
     "metadata": {},
     "output_type": "display_data"
    }
   ],
   "source": [
    "import matplotlib.pyplot as plt\n",
    "plt.figure(figsize=[5,5])\n",
    "plt.imshow((input_images_LR_train[0][0]).squeeze(), cmap = 'gray', interpolation = 'none')\n",
    "plt.xticks([]), plt.yticks([])  # to hide tick values on X and Y axis\n",
    "plt.show()"
   ]
  },
  {
   "cell_type": "markdown",
   "metadata": {},
   "source": [
    "# Pre-processing, hidden regions, bad intensity values"
   ]
  },
  {
   "cell_type": "code",
   "execution_count": 6,
   "metadata": {},
   "outputs": [],
   "source": [
    "#transform in a list of numpy\n",
    "input_images_LR_train=np.array([np.array(x) for x in input_images_LR_train])\n",
    "mask_LR_train=np.array([np.array(x) for x in mask_LR_train])"
   ]
  },
  {
   "cell_type": "markdown",
   "metadata": {},
   "source": [
    "### The images are supposed to be over 14 bits, but there many images with values > 2^14 -1\n",
    "### Removing all images in which we find at least one pixel > 60000."
   ]
  },
  {
   "cell_type": "code",
   "execution_count": 7,
   "metadata": {},
   "outputs": [],
   "source": [
    "#Find the indexes to remove with very high pixels\n",
    "images_to_remove=[[i,j] for i,x in enumerate(input_images_LR_train) for j,z in enumerate(x) if (z>60000).any() ]\n",
    "#generate dictionary with as key the index of the imageset and as value a list of indexes correpsonding to images\n",
    "# to remove of that specific imageset\n",
    "d=defaultdict(list)\n",
    "for i in images_to_remove:\n",
    "    d[i[0]].append(i[1])"
   ]
  },
  {
   "cell_type": "code",
   "execution_count": 8,
   "metadata": {},
   "outputs": [],
   "source": [
    "for i in d.keys():\n",
    "    input_images_LR_train[i]\\\n",
    "    =np.delete(input_images_LR_train[i],d[i],axis=0)\n",
    "    \n",
    "    mask_LR_train[i]\\\n",
    "    =np.delete(mask_LR_train[i],d[i],axis=0)"
   ]
  },
  {
   "cell_type": "markdown",
   "metadata": {},
   "source": [
    "### How many imagesets have less than 9 images , now that we have removed the bad registered images"
   ]
  },
  {
   "cell_type": "code",
   "execution_count": 9,
   "metadata": {},
   "outputs": [
    {
     "data": {
      "text/plain": [
       "[(8, 128, 128), (7, 128, 128), (8, 128, 128), (7, 128, 128)]"
      ]
     },
     "execution_count": 9,
     "metadata": {},
     "output_type": "execute_result"
    }
   ],
   "source": [
    "[x.shape for x in input_images_LR_train if x.shape[0]<9]"
   ]
  },
  {
   "cell_type": "markdown",
   "metadata": {},
   "source": [
    "### Remove them LR images, LR masks and HR images and HR masks"
   ]
  },
  {
   "cell_type": "code",
   "execution_count": 10,
   "metadata": {},
   "outputs": [],
   "source": [
    "indexes=[i for i,x in enumerate(input_images_LR_train) if np.array(x).shape[0]<9]\n",
    "\n",
    "#LR\n",
    "input_images_LR_train=np.delete(input_images_LR_train,indexes,axis=0)\n",
    "mask_LR_train=np.delete(mask_LR_train,indexes,axis=0)\n",
    "\n",
    "#HR\n",
    "input_images_HR_train=np.delete(input_images_HR_train,indexes,axis=0)\n",
    "mask_HR_train=np.delete(mask_HR_train,indexes,axis=0)"
   ]
  },
  {
   "cell_type": "markdown",
   "metadata": {},
   "source": [
    "## Upsampling\n",
    "\n",
    "### Upsampling batch training set"
   ]
  },
  {
   "cell_type": "markdown",
   "metadata": {},
   "source": [
    "The goal is to upsample all LR images of each imageset loaded from pickles"
   ]
  },
  {
   "cell_type": "code",
   "execution_count": 11,
   "metadata": {},
   "outputs": [],
   "source": [
    "input_images_LR_train_upsample=upsampling_without_aggregation_all_imageset(input_images_LR_train,scale=3)"
   ]
  },
  {
   "cell_type": "markdown",
   "metadata": {},
   "source": [
    "### Upsampling masks corresponding to training set"
   ]
  },
  {
   "cell_type": "code",
   "execution_count": 12,
   "metadata": {},
   "outputs": [],
   "source": [
    "mask_LR_train_upsample=upsampling_mask_all_imageset(mask_LR_train,scale=3)"
   ]
  },
  {
   "cell_type": "markdown",
   "metadata": {},
   "source": [
    "### Register imageset and mask\n",
    "\n"
   ]
  },
  {
   "cell_type": "markdown",
   "metadata": {},
   "source": [
    "#### Registration taking always the most clear image as reference"
   ]
  },
  {
   "cell_type": "code",
   "execution_count": 13,
   "metadata": {},
   "outputs": [
    {
     "name": "stderr",
     "output_type": "stream",
     "text": [
      "../libraries/utils.py:136: ComplexWarning: Casting complex values to real discards the imaginary part\n",
      "  imageset_training_registered[j_index]=corrected_image\n"
     ]
    }
   ],
   "source": [
    "input_images_LR_train_upsample_registered,\\\n",
    "mask_LR_train_upsample_registered,\\\n",
    "shifts,\\\n",
    "new_index_orders=registration_imageset_against_best_image_without_union_mask(input_images_LR_train_upsample,\n",
    "                                                mask_LR_train_upsample,\n",
    "                                                1)\n"
   ]
  },
  {
   "cell_type": "code",
   "execution_count": 14,
   "metadata": {},
   "outputs": [
    {
     "data": {
      "text/plain": [
       "array([ 2,  0,  1,  3,  4,  5,  6,  7,  8,  9, 10, 11, 12, 13, 14, 15, 16,\n",
       "       17, 18], dtype=int16)"
      ]
     },
     "execution_count": 14,
     "metadata": {},
     "output_type": "execute_result"
    }
   ],
   "source": [
    "new_index_orders[17]"
   ]
  },
  {
   "cell_type": "code",
   "execution_count": 15,
   "metadata": {},
   "outputs": [
    {
     "data": {
      "text/plain": [
       "array([[ 0.,  0.],\n",
       "       [ 1.,  0.],\n",
       "       [ 1.,  0.],\n",
       "       [ 1.,  0.],\n",
       "       [ 1.,  0.],\n",
       "       [ 0.,  0.],\n",
       "       [ 0.,  0.],\n",
       "       [ 1., -3.],\n",
       "       [ 0.,  0.],\n",
       "       [ 1.,  0.],\n",
       "       [ 1.,  0.],\n",
       "       [ 0.,  0.],\n",
       "       [ 0.,  0.],\n",
       "       [ 1.,  0.],\n",
       "       [ 1.,  0.],\n",
       "       [ 1.,  1.],\n",
       "       [ 1.,  0.],\n",
       "       [ 1.,  0.],\n",
       "       [ 1.,  0.]])"
      ]
     },
     "execution_count": 15,
     "metadata": {},
     "output_type": "execute_result"
    }
   ],
   "source": [
    "shifts[17]"
   ]
  },
  {
   "cell_type": "code",
   "execution_count": 16,
   "metadata": {},
   "outputs": [],
   "source": [
    "#transform in a list of numpy\n",
    "input_images_LR_train_upsample=np.array([np.array(x) for x in input_images_LR_train_upsample])\n",
    "mask_LR_train_upsample=np.array([np.array(x) for x in mask_LR_train_upsample])"
   ]
  },
  {
   "cell_type": "code",
   "execution_count": 17,
   "metadata": {},
   "outputs": [],
   "source": [
    "#Reorder the training set not upsampled and not registered the way the training upsdampled and registered has been ordered\n",
    "#so that it matched the ordering of the shifts we computed during registration\n",
    "\n",
    "input_images_LR_train_upsample=[imageset[new_index_orders[i]] for i,imageset in enumerate(input_images_LR_train_upsample)]\n",
    "mask_LR_train_upsample=[imageset[new_index_orders[i]] for i,imageset in enumerate(mask_LR_train_upsample)]\n"
   ]
  },
  {
   "cell_type": "code",
   "execution_count": 18,
   "metadata": {},
   "outputs": [],
   "source": [
    "#Find the indexes to remove considering we want to keep up to 4 pixel shift. \n",
    "images_to_remove=[[i,j,z] for i,x in enumerate(shifts) for j,z in enumerate(x) if (np.abs(z)>4).any() ]\n",
    "#generate dictionary with as key the index of the imageset and as value a list of indexes correpsonding to images\n",
    "# to remove of that specific imageset\n",
    "from collections import defaultdict\n",
    "\n",
    "d=defaultdict(list)\n",
    "\n",
    "for i in images_to_remove:\n",
    "    d[i[0]].append(i[1])\n",
    "    \n"
   ]
  },
  {
   "cell_type": "code",
   "execution_count": 19,
   "metadata": {
    "scrolled": true
   },
   "outputs": [
    {
     "data": {
      "text/plain": [
       "defaultdict(list,\n",
       "            {0: [2, 3, 4, 5, 7, 8, 9, 11, 12, 13],\n",
       "             15: [13],\n",
       "             19: [1],\n",
       "             24: [10, 18],\n",
       "             26: [16],\n",
       "             27: [5, 11],\n",
       "             32: [3],\n",
       "             49: [3],\n",
       "             52: [6],\n",
       "             64: [10, 13],\n",
       "             66: [17],\n",
       "             69: [16],\n",
       "             76: [5, 6],\n",
       "             81: [2, 5],\n",
       "             92: [4, 8],\n",
       "             96: [9],\n",
       "             107: [15, 18],\n",
       "             108: [4, 5, 9, 13],\n",
       "             110: [17],\n",
       "             116: [11],\n",
       "             126: [16],\n",
       "             130: [1, 5, 7],\n",
       "             137: [5],\n",
       "             148: [9],\n",
       "             151: [16],\n",
       "             157: [3],\n",
       "             158: [11, 14],\n",
       "             160: [18],\n",
       "             174: [17],\n",
       "             178: [4],\n",
       "             179: [13],\n",
       "             180: [12],\n",
       "             182: [6, 15],\n",
       "             195: [17],\n",
       "             207: [14],\n",
       "             209: [11],\n",
       "             210: [1],\n",
       "             216: [7],\n",
       "             217: [3, 8, 11],\n",
       "             221: [6],\n",
       "             227: [15],\n",
       "             231: [12],\n",
       "             232: [16],\n",
       "             235: [6],\n",
       "             237: [12],\n",
       "             239: [13],\n",
       "             245: [1],\n",
       "             247: [5],\n",
       "             248: [5],\n",
       "             252: [3, 6],\n",
       "             253: [1],\n",
       "             257: [11],\n",
       "             259: [16],\n",
       "             261: [14],\n",
       "             268: [10, 16],\n",
       "             269: [12],\n",
       "             273: [14],\n",
       "             281: [10, 15],\n",
       "             284: [1, 9, 10],\n",
       "             294: [5],\n",
       "             295: [4, 5, 9, 13],\n",
       "             303: [12],\n",
       "             310: [19],\n",
       "             314: [2, 9, 11],\n",
       "             316: [1],\n",
       "             318: [13],\n",
       "             319: [18],\n",
       "             324: [8],\n",
       "             330: [14],\n",
       "             331: [4],\n",
       "             333: [1],\n",
       "             343: [6, 11, 15, 26],\n",
       "             345: [2, 4],\n",
       "             352: [15],\n",
       "             354: [4],\n",
       "             357: [7, 10],\n",
       "             371: [17],\n",
       "             374: [15],\n",
       "             382: [10],\n",
       "             392: [7],\n",
       "             396: [4, 11, 17],\n",
       "             402: [1],\n",
       "             403: [4],\n",
       "             406: [6],\n",
       "             410: [6]})"
      ]
     },
     "execution_count": 19,
     "metadata": {},
     "output_type": "execute_result"
    }
   ],
   "source": [
    "d"
   ]
  },
  {
   "cell_type": "markdown",
   "metadata": {},
   "source": [
    "### Remove the images from LR images"
   ]
  },
  {
   "cell_type": "code",
   "execution_count": 20,
   "metadata": {},
   "outputs": [],
   "source": [
    "for i in d.keys():\n",
    "    input_images_LR_train_upsample[i]\\\n",
    "    =np.delete(input_images_LR_train_upsample[i],d[i],axis=0)\n",
    "    \n",
    "    mask_LR_train_upsample[i]\\\n",
    "    =np.delete(mask_LR_train_upsample[i],d[i],axis=0)\n"
   ]
  },
  {
   "cell_type": "markdown",
   "metadata": {},
   "source": [
    "### How many imagesets have less than 9 images , now that we have removed the bad registered images"
   ]
  },
  {
   "cell_type": "code",
   "execution_count": 21,
   "metadata": {},
   "outputs": [
    {
     "data": {
      "text/plain": [
       "[(4, 384, 384), (8, 384, 384), (6, 384, 384), (8, 384, 384), (8, 384, 384)]"
      ]
     },
     "execution_count": 21,
     "metadata": {},
     "output_type": "execute_result"
    }
   ],
   "source": [
    "[x.shape for x in input_images_LR_train_upsample if x.shape[0]<9]"
   ]
  },
  {
   "cell_type": "code",
   "execution_count": 22,
   "metadata": {},
   "outputs": [
    {
     "data": {
      "text/plain": [
       "5"
      ]
     },
     "execution_count": 22,
     "metadata": {},
     "output_type": "execute_result"
    }
   ],
   "source": [
    "len([x.shape for x in input_images_LR_train_upsample if x.shape[0]<9])"
   ]
  },
  {
   "cell_type": "markdown",
   "metadata": {},
   "source": [
    "### Remove them LR images, LR masks and HR images and HR masks"
   ]
  },
  {
   "cell_type": "code",
   "execution_count": 23,
   "metadata": {},
   "outputs": [],
   "source": [
    "indexes=[i for i,x in enumerate(input_images_LR_train_upsample) if np.array(x).shape[0]<9]\n",
    "\n",
    "#LR\n",
    "input_images_LR_train_upsample=np.delete(input_images_LR_train_upsample,indexes,axis=0)\n",
    "mask_LR_train_upsample=np.delete(mask_LR_train_upsample,indexes,axis=0)\n",
    "\n",
    "#HR\n",
    "input_images_HR_train=np.delete(input_images_HR_train,indexes,axis=0)\n",
    "mask_HR_train=np.delete(mask_HR_train,indexes,axis=0)"
   ]
  },
  {
   "cell_type": "code",
   "execution_count": 24,
   "metadata": {},
   "outputs": [
    {
     "data": {
      "text/plain": [
       "[0, 81, 130, 333, 403]"
      ]
     },
     "execution_count": 24,
     "metadata": {},
     "output_type": "execute_result"
    }
   ],
   "source": [
    "indexes"
   ]
  },
  {
   "cell_type": "code",
   "execution_count": 25,
   "metadata": {},
   "outputs": [],
   "source": [
    "# Update also shifts array\n",
    "for i in d.keys():\n",
    "    shifts[i]\\\n",
    "    =np.delete(shifts[i],d[i],axis=0)\n",
    "\n",
    "shifts=np.delete(shifts,indexes,axis=0)"
   ]
  },
  {
   "cell_type": "markdown",
   "metadata": {},
   "source": [
    "### Statistics about the shifts"
   ]
  },
  {
   "cell_type": "code",
   "execution_count": 26,
   "metadata": {},
   "outputs": [
    {
     "data": {
      "text/plain": [
       "4266"
      ]
     },
     "execution_count": 26,
     "metadata": {},
     "output_type": "execute_result"
    }
   ],
   "source": [
    "len([[i,j,z] for i,x in enumerate(shifts) for j,z in enumerate(x) if (np.abs(z)==0).all() ])"
   ]
  },
  {
   "cell_type": "code",
   "execution_count": 27,
   "metadata": {},
   "outputs": [
    {
     "data": {
      "text/plain": [
       "7480"
      ]
     },
     "execution_count": 27,
     "metadata": {},
     "output_type": "execute_result"
    }
   ],
   "source": [
    "len([[i,j,z] for i,x in enumerate(shifts) for j,z in enumerate(x) if (np.abs(z)>=0).any() ])"
   ]
  },
  {
   "cell_type": "markdown",
   "metadata": {},
   "source": [
    "### Create patches from the upsamled LR images and save npy "
   ]
  },
  {
   "cell_type": "code",
   "execution_count": 28,
   "metadata": {},
   "outputs": [
    {
     "name": "stderr",
     "output_type": "stream",
     "text": [
      "[========================================================================] 100%\n",
      "[========================================================================] 100%\n",
      "[========================================================================] 100%\n",
      "[========================================================================] 100%\n",
      "[========================================================================] 100%\n"
     ]
    }
   ],
   "source": [
    "n_chuncks=5\n",
    "for i in range(n_chuncks):\n",
    "    dataset_patch=create_patch_dataset_return_shifts(input_images_LR_train_upsample,\n",
    "                                                     input_images_HR_train,\n",
    "                                                     mask_LR_train_upsample,\n",
    "                                                     mask_HR_train,\n",
    "                                                     shifts,\n",
    "                                                     patch_size=96,\n",
    "                                                     num_patches_per_set=20,\n",
    "                                                     scale=1,\n",
    "                                                     smart_patching=True\n",
    "                                                     )\n",
    "    \n",
    "    input_images_LR_patch=dataset_patch['training_patch']\n",
    "    input_images_HR_patch=dataset_patch['training_y_patch']\n",
    "    mask_LR_patch=dataset_patch['training_mask_patch']\n",
    "    mask_HR_patch=dataset_patch['training_mask_y_patch']\n",
    "    shifts_patch=dataset_patch['shifts']\n",
    "    coordinates=dataset_patch['coordinates']\n",
    "    \n",
    "    np.save(os.path.join(out_dataset,'{0}_dataset_{1}_patch_LR.npy'.format(i,band)),input_images_LR_patch,allow_pickle=True)\n",
    "    np.save(os.path.join(out_dataset,'{0}_dataset_{1}_patch_HR.npy'.format(i,band)),input_images_HR_patch,allow_pickle=True)\n",
    "    np.save(os.path.join(out_dataset,'{0}_dataset_{1}_patch_mask_LR.npy'.format(i,band)),mask_LR_patch,allow_pickle=True)\n",
    "    np.save(os.path.join(out_dataset,'{0}_dataset_{1}_patch_mask_HR.npy'.format(i,band)),mask_HR_patch,allow_pickle=True)\n",
    "    np.save(os.path.join(out_dataset,'{0}_shifts_patch_{1}.npy'.format(i,band)),shifts_patch,allow_pickle=True)\n",
    "    np.save(os.path.join(out_dataset,'{0}_coordinates_{1}.npy'.format(i,band)),coordinates,allow_pickle=True)\n",
    "    "
   ]
  },
  {
   "cell_type": "code",
   "execution_count": 29,
   "metadata": {},
   "outputs": [
    {
     "data": {
      "image/png": "[encoded data removed]",
      "text/plain": [
       "<Figure size 360x360 with 1 Axes>"
      ]
     },
     "metadata": {},
     "output_type": "display_data"
    }
   ],
   "source": [
    "import matplotlib.pyplot as plt\n",
    "plt.figure(figsize=[5,5])\n",
    "plt.imshow((input_images_LR_patch[14][8]).squeeze(), cmap = 'gray', interpolation = 'none')\n",
    "plt.xticks([]), plt.yticks([])  # to hide tick values on X and Y axis\n",
    "plt.show()"
   ]
  },
  {
   "cell_type": "code",
   "execution_count": 30,
   "metadata": {},
   "outputs": [
    {
     "data": {
      "image/png": "[encoded data removed]",
      "text/plain": [
       "<Figure size 360x360 with 1 Axes>"
      ]
     },
     "metadata": {},
     "output_type": "display_data"
    }
   ],
   "source": [
    "import matplotlib.pyplot as plt\n",
    "plt.figure(figsize=[5,5])\n",
    "plt.imshow((input_images_LR_patch[14][13]).squeeze(), cmap = 'gray', interpolation = 'none')\n",
    "plt.xticks([]), plt.yticks([])  # to hide tick values on X and Y axis\n",
    "plt.show()"
   ]
  },
  {
   "cell_type": "code",
   "execution_count": 31,
   "metadata": {},
   "outputs": [
    {
     "data": {
      "image/png": "[encoded data removed]",
      "text/plain": [
       "<Figure size 360x360 with 1 Axes>"
      ]
     },
     "metadata": {},
     "output_type": "display_data"
    }
   ],
   "source": [
    "import matplotlib.pyplot as plt\n",
    "plt.figure(figsize=[5,5])\n",
    "plt.imshow((mask_LR_patch[14][13]).squeeze(), cmap = 'gray', interpolation = 'none')\n",
    "plt.xticks([]), plt.yticks([])  # to hide tick values on X and Y axis\n",
    "plt.show()"
   ]
  },
  {
   "cell_type": "code",
   "execution_count": 32,
   "metadata": {},
   "outputs": [
    {
     "data": {
      "image/png": "[encoded data removed]",
      "text/plain": [
       "<Figure size 360x360 with 1 Axes>"
      ]
     },
     "metadata": {},
     "output_type": "display_data"
    }
   ],
   "source": [
    "import matplotlib.pyplot as plt\n",
    "plt.figure(figsize=[5,5])\n",
    "plt.imshow((mask_LR_patch[23][0]).squeeze(), cmap = 'gray', interpolation = 'none')\n",
    "plt.xticks([]), plt.yticks([])  # to hide tick values on X and Y axis\n",
    "plt.show()"
   ]
  },
  {
   "cell_type": "code",
   "execution_count": 33,
   "metadata": {},
   "outputs": [
    {
     "data": {
      "image/png": "[encoded data removed]",
      "text/plain": [
       "<Figure size 360x360 with 1 Axes>"
      ]
     },
     "metadata": {},
     "output_type": "display_data"
    }
   ],
   "source": [
    "import matplotlib.pyplot as plt\n",
    "plt.figure(figsize=[5,5])\n",
    "plt.imshow((input_images_HR_patch[14]).squeeze(), cmap = 'gray', interpolation = 'none')\n",
    "plt.xticks([]), plt.yticks([])  # to hide tick values on X and Y axis\n",
    "plt.show()"
   ]
  },
  {
   "cell_type": "markdown",
   "metadata": {},
   "source": [
    "# For Validation Upsampling network RED channel"
   ]
  },
  {
   "cell_type": "code",
   "execution_count": 34,
   "metadata": {},
   "outputs": [],
   "source": [
    "#transform in a list of numpy\n",
    "input_images_LR_valid=np.array([np.array(x) for x in input_images_LR_valid])\n",
    "mask_LR_valid=np.array([np.array(x) for x in mask_LR_valid])"
   ]
  },
  {
   "cell_type": "markdown",
   "metadata": {},
   "source": [
    "### Removing all images in which we find at least one pixel > 65000"
   ]
  },
  {
   "cell_type": "code",
   "execution_count": 35,
   "metadata": {},
   "outputs": [],
   "source": [
    "#Find the indexes to remove with very high pixels\n",
    "images_to_remove=[[i,j] for i,x in enumerate(input_images_LR_valid) for j,z in enumerate(x) if (z>60000).any() ]\n",
    "#generate dictionary with as key the index of the imageset and as value a list of indexes correpsonding to images\n",
    "# to remove of that specific imageset\n",
    "from collections import defaultdict\n",
    "\n",
    "d=defaultdict(list)\n",
    "\n",
    "for i in images_to_remove:\n",
    "    d[i[0]].append(i[1])\n",
    "    \n"
   ]
  },
  {
   "cell_type": "code",
   "execution_count": 36,
   "metadata": {
    "scrolled": true
   },
   "outputs": [
    {
     "data": {
      "text/plain": [
       "defaultdict(list,\n",
       "            {0: [15],\n",
       "             1: [2],\n",
       "             4: [12],\n",
       "             6: [6, 12],\n",
       "             7: [8],\n",
       "             8: [3, 9],\n",
       "             9: [14, 17],\n",
       "             11: [1, 3],\n",
       "             12: [5],\n",
       "             14: [16],\n",
       "             17: [2],\n",
       "             20: [11],\n",
       "             21: [6, 22, 28],\n",
       "             22: [9, 12, 20],\n",
       "             24: [7, 12],\n",
       "             27: [1, 2, 17],\n",
       "             31: [16],\n",
       "             36: [9, 13],\n",
       "             38: [5],\n",
       "             40: [4, 5, 8],\n",
       "             42: [10, 18],\n",
       "             43: [12],\n",
       "             44: [2],\n",
       "             53: [4],\n",
       "             54: [5, 10],\n",
       "             55: [4, 5],\n",
       "             56: [2],\n",
       "             58: [1],\n",
       "             60: [0, 6],\n",
       "             61: [14],\n",
       "             63: [6, 14],\n",
       "             64: [2],\n",
       "             66: [1, 14],\n",
       "             70: [2, 3, 12],\n",
       "             71: [2],\n",
       "             73: [7, 9],\n",
       "             74: [7],\n",
       "             75: [7, 14],\n",
       "             78: [6, 13],\n",
       "             80: [18],\n",
       "             81: [7, 9],\n",
       "             85: [3, 18],\n",
       "             86: [0],\n",
       "             87: [12],\n",
       "             89: [3, 6, 22],\n",
       "             91: [9],\n",
       "             92: [5],\n",
       "             93: [6],\n",
       "             94: [20],\n",
       "             95: [13],\n",
       "             99: [2],\n",
       "             101: [10],\n",
       "             102: [1],\n",
       "             103: [15],\n",
       "             104: [3, 8],\n",
       "             105: [4, 7, 12],\n",
       "             108: [13, 14],\n",
       "             110: [10],\n",
       "             111: [17],\n",
       "             112: [4, 8],\n",
       "             113: [0],\n",
       "             114: [1, 8],\n",
       "             115: [0, 11, 14],\n",
       "             116: [10],\n",
       "             117: [7],\n",
       "             119: [14],\n",
       "             120: [0, 4],\n",
       "             121: [0],\n",
       "             124: [8],\n",
       "             127: [11, 15],\n",
       "             128: [14],\n",
       "             129: [8],\n",
       "             130: [0, 2, 10],\n",
       "             131: [1, 5, 16, 24],\n",
       "             135: [13],\n",
       "             139: [3],\n",
       "             143: [2],\n",
       "             146: [9],\n",
       "             148: [16],\n",
       "             149: [12, 23],\n",
       "             151: [13],\n",
       "             152: [14],\n",
       "             153: [0, 7],\n",
       "             155: [7, 9],\n",
       "             156: [10, 23],\n",
       "             158: [7, 19],\n",
       "             159: [13],\n",
       "             161: [9],\n",
       "             162: [8],\n",
       "             164: [14, 19],\n",
       "             165: [15],\n",
       "             167: [8, 13, 18],\n",
       "             168: [2, 3],\n",
       "             169: [11],\n",
       "             173: [8],\n",
       "             174: [3],\n",
       "             175: [6],\n",
       "             176: [3],\n",
       "             177: [10],\n",
       "             178: [2, 16]})"
      ]
     },
     "execution_count": 36,
     "metadata": {},
     "output_type": "execute_result"
    }
   ],
   "source": [
    "d"
   ]
  },
  {
   "cell_type": "code",
   "execution_count": 37,
   "metadata": {},
   "outputs": [],
   "source": [
    "for i in d.keys():\n",
    "    input_images_LR_valid[i]\\\n",
    "    =np.delete(input_images_LR_valid[i],d[i],axis=0)\n",
    "    \n",
    "    mask_LR_valid[i]\\\n",
    "    =np.delete(mask_LR_valid[i],d[i],axis=0)"
   ]
  },
  {
   "cell_type": "markdown",
   "metadata": {},
   "source": [
    "### How many imagesets have less than 9 images , now that we have removed the bad registered images"
   ]
  },
  {
   "cell_type": "code",
   "execution_count": 38,
   "metadata": {},
   "outputs": [
    {
     "data": {
      "text/plain": [
       "[(7, 128, 128), (8, 128, 128)]"
      ]
     },
     "execution_count": 38,
     "metadata": {},
     "output_type": "execute_result"
    }
   ],
   "source": [
    "[x.shape for x in input_images_LR_valid if x.shape[0]<9]"
   ]
  },
  {
   "cell_type": "markdown",
   "metadata": {},
   "source": [
    "### Remove them LR images, LR masks and HR images and HR masks"
   ]
  },
  {
   "cell_type": "code",
   "execution_count": 39,
   "metadata": {},
   "outputs": [],
   "source": [
    "indexes=[i for i,x in enumerate(input_images_LR_valid) if np.array(x).shape[0]<9]\n",
    "\n",
    "#LR\n",
    "input_images_LR_valid=np.delete(input_images_LR_valid,indexes,axis=0)\n",
    "mask_LR_valid=np.delete(mask_LR_valid,indexes,axis=0)\n",
    "\n",
    "#HR\n",
    "input_images_HR_valid=np.delete(input_images_HR_valid,indexes,axis=0)\n",
    "mask_HR_valid=np.delete(mask_HR_valid,indexes,axis=0)"
   ]
  },
  {
   "cell_type": "code",
   "execution_count": 40,
   "metadata": {},
   "outputs": [],
   "source": [
    "#update the baseline normalization\n",
    "norm_validation=np.delete(norm_validation,indexes,axis=0)"
   ]
  },
  {
   "cell_type": "markdown",
   "metadata": {},
   "source": [
    "## Upsampling"
   ]
  },
  {
   "cell_type": "markdown",
   "metadata": {},
   "source": [
    "### Upsampling batch training set"
   ]
  },
  {
   "cell_type": "markdown",
   "metadata": {},
   "source": [
    "The goal is to upsample all LR images of each imageset loaded from pickles"
   ]
  },
  {
   "cell_type": "code",
   "execution_count": 41,
   "metadata": {},
   "outputs": [],
   "source": [
    "input_images_LR_valid_upsample=upsampling_without_aggregation_all_imageset(input_images_LR_valid,scale=3)"
   ]
  },
  {
   "cell_type": "markdown",
   "metadata": {},
   "source": [
    "### Upsampling masks corresponding to training set"
   ]
  },
  {
   "cell_type": "code",
   "execution_count": 42,
   "metadata": {},
   "outputs": [],
   "source": [
    "mask_LR_valid_upsample=upsampling_mask_all_imageset(mask_LR_valid,scale=3)"
   ]
  },
  {
   "cell_type": "markdown",
   "metadata": {},
   "source": [
    "### Register imageset and mask"
   ]
  },
  {
   "cell_type": "code",
   "execution_count": 44,
   "metadata": {},
   "outputs": [],
   "source": [
    "input_images_LR_valid_upsample_registered,\\\n",
    "mask_LR_valid_upsample_registered,\\\n",
    "shifts_valid,\\\n",
    "new_index_orders_valid=registration_imageset_against_best_image_without_union_mask(input_images_LR_valid_upsample,\n",
    "                                                mask_LR_valid_upsample,\n",
    "                                                1)\n",
    "\n",
    "\n"
   ]
  },
  {
   "cell_type": "code",
   "execution_count": 45,
   "metadata": {},
   "outputs": [],
   "source": [
    "#transform in a list of numpy\n",
    "input_images_LR_valid_upsample=np.array([np.array(x) for x in input_images_LR_valid_upsample])\n",
    "mask_LR_valid_upsample=np.array([np.array(x) for x in mask_LR_valid_upsample])"
   ]
  },
  {
   "cell_type": "code",
   "execution_count": 46,
   "metadata": {},
   "outputs": [],
   "source": [
    "#Reorder the training set not upsampled and not registered the way the training upsdampled and registered has been ordered\n",
    "#so that it matched the ordering of the shifts we computed during registration\n",
    "\n",
    "input_images_LR_valid_upsample=[imageset[new_index_orders_valid[i]] for i,imageset in enumerate(input_images_LR_valid_upsample)]\n",
    "mask_LR_valid_upsample=[imageset[new_index_orders_valid[i]] for i,imageset in enumerate(mask_LR_valid_upsample)]\n"
   ]
  },
  {
   "cell_type": "code",
   "execution_count": 47,
   "metadata": {},
   "outputs": [],
   "source": [
    "# Find the indexes to remove\n",
    "\n",
    "images_to_remove=[[i,j,z] for i,x in enumerate(shifts_valid) for j,z in enumerate(x) if (np.abs(z)>4).any() ]\n",
    "#generate dictionary with as key the index of the imageset and as value a list of indexes correpsonding to images\n",
    "# to remove of that specific imageset\n",
    "from collections import defaultdict\n",
    "\n",
    "d=defaultdict(list)\n",
    "\n",
    "for i in images_to_remove:\n",
    "    d[i[0]].append(i[1])\n",
    "    \n"
   ]
  },
  {
   "cell_type": "code",
   "execution_count": 48,
   "metadata": {
    "scrolled": true
   },
   "outputs": [
    {
     "data": {
      "text/plain": [
       "defaultdict(list,\n",
       "            {2: [5],\n",
       "             6: [15],\n",
       "             14: [16],\n",
       "             20: [9, 23],\n",
       "             25: [3, 5],\n",
       "             28: [15],\n",
       "             30: [4],\n",
       "             36: [2, 5],\n",
       "             39: [3, 14, 16],\n",
       "             41: [19],\n",
       "             46: [16, 22],\n",
       "             48: [6],\n",
       "             54: [11],\n",
       "             61: [9, 14],\n",
       "             71: [5],\n",
       "             76: [11],\n",
       "             80: [18],\n",
       "             83: [14],\n",
       "             87: [1],\n",
       "             91: [18],\n",
       "             92: [12],\n",
       "             93: [5],\n",
       "             99: [14],\n",
       "             101: [3],\n",
       "             117: [13, 20],\n",
       "             122: [8],\n",
       "             127: [2],\n",
       "             130: [5],\n",
       "             131: [4],\n",
       "             133: [4],\n",
       "             139: [1, 6],\n",
       "             141: [17],\n",
       "             145: [1, 8],\n",
       "             147: [4, 5],\n",
       "             149: [1],\n",
       "             151: [6, 22],\n",
       "             159: [11],\n",
       "             160: [11],\n",
       "             175: [15]})"
      ]
     },
     "execution_count": 48,
     "metadata": {},
     "output_type": "execute_result"
    }
   ],
   "source": [
    "d"
   ]
  },
  {
   "cell_type": "markdown",
   "metadata": {},
   "source": [
    "### Remove the images from LR images"
   ]
  },
  {
   "cell_type": "code",
   "execution_count": 49,
   "metadata": {},
   "outputs": [],
   "source": [
    "for i in d.keys():\n",
    "    input_images_LR_valid_upsample[i]\\\n",
    "    =np.delete(input_images_LR_valid_upsample[i],d[i],axis=0)\n",
    "    \n",
    "    mask_LR_valid_upsample[i]\\\n",
    "    =np.delete(mask_LR_valid_upsample[i],d[i],axis=0)\n"
   ]
  },
  {
   "cell_type": "markdown",
   "metadata": {},
   "source": [
    "### How many imagesets have less than 9 images , now that we have removed the bad registered images"
   ]
  },
  {
   "cell_type": "code",
   "execution_count": 50,
   "metadata": {},
   "outputs": [
    {
     "data": {
      "text/plain": [
       "[(8, 384, 384)]"
      ]
     },
     "execution_count": 50,
     "metadata": {},
     "output_type": "execute_result"
    }
   ],
   "source": [
    "[x.shape for x in input_images_LR_valid_upsample if x.shape[0]<9]"
   ]
  },
  {
   "cell_type": "code",
   "execution_count": 51,
   "metadata": {},
   "outputs": [
    {
     "data": {
      "text/plain": [
       "1"
      ]
     },
     "execution_count": 51,
     "metadata": {},
     "output_type": "execute_result"
    }
   ],
   "source": [
    "len([x.shape for x in input_images_LR_valid_upsample if x.shape[0]<9])"
   ]
  },
  {
   "cell_type": "markdown",
   "metadata": {},
   "source": [
    "### Remove them"
   ]
  },
  {
   "cell_type": "code",
   "execution_count": 52,
   "metadata": {},
   "outputs": [],
   "source": [
    "indexes=[i for i,x in enumerate(input_images_LR_valid_upsample) if np.array(x).shape[0]<9]\n",
    "\n",
    "#LR\n",
    "input_images_LR_valid_upsample=np.delete(input_images_LR_valid_upsample,indexes,axis=0)\n",
    "mask_LR_valid_upsample=np.delete(mask_LR_valid_upsample,indexes,axis=0)\n",
    "\n",
    "#HR\n",
    "input_images_HR_valid=np.delete(input_images_HR_valid,indexes,axis=0)\n",
    "mask_HR_valid=np.delete(mask_HR_valid,indexes,axis=0)"
   ]
  },
  {
   "cell_type": "code",
   "execution_count": 53,
   "metadata": {},
   "outputs": [
    {
     "data": {
      "text/plain": [
       "[87]"
      ]
     },
     "execution_count": 53,
     "metadata": {},
     "output_type": "execute_result"
    }
   ],
   "source": [
    "indexes"
   ]
  },
  {
   "cell_type": "code",
   "execution_count": 54,
   "metadata": {},
   "outputs": [],
   "source": [
    "# Update also shifts array\n",
    "\n",
    "for i in d.keys():\n",
    "    shifts_valid[i]\\\n",
    "    =np.delete(shifts_valid[i],d[i],axis=0)\n",
    "\n",
    "shifts_valid=np.delete(shifts_valid,indexes,axis=0)"
   ]
  },
  {
   "cell_type": "code",
   "execution_count": 55,
   "metadata": {},
   "outputs": [],
   "source": [
    "#update the baseline normalization\n",
    "norm_validation=np.delete(norm_validation,indexes,axis=0)"
   ]
  },
  {
   "cell_type": "markdown",
   "metadata": {},
   "source": [
    "### Save the validation dataset"
   ]
  },
  {
   "cell_type": "code",
   "execution_count": 56,
   "metadata": {},
   "outputs": [],
   "source": [
    "np.save(os.path.join(out_dataset,'dataset_{0}_LR_valid.npy'.format(band)),input_images_LR_valid_upsample,allow_pickle=True)\n",
    "np.save(os.path.join(out_dataset,'dataset_{0}_HR_valid.npy'.format(band)),input_images_HR_valid,allow_pickle=True)\n",
    "np.save(os.path.join(out_dataset,'dataset_{0}_mask_LR_valid.npy'.format(band)),mask_LR_valid_upsample,allow_pickle=True)\n",
    "np.save(os.path.join(out_dataset,'dataset_{0}_mask_HR_valid.npy'.format(band)),mask_HR_valid,allow_pickle=True)\n",
    "np.save(os.path.join(out_dataset,'shifts_valid_{0}.npy'.format(band)),shifts_valid,allow_pickle=True)\n",
    "\n",
    "norm_validation.dump(os.path.join(out_dataset,'norm_'+band+'.npy'))"
   ]
  },
  {
   "cell_type": "code",
   "execution_count": null,
   "metadata": {},
   "outputs": [],
   "source": []
  },
  {
   "cell_type": "code",
   "execution_count": null,
   "metadata": {},
   "outputs": [],
   "source": []
  }
 ],
 "metadata": {
  "kernelspec": {
   "display_name": "Python 3.6.5 64-bit ('3.6.5')",
   "language": "python",
   "name": "python3"
  },
  "language_info": {
   "codemirror_mode": {
    "name": "ipython",
    "version": 3
   },
   "file_extension": ".py",
   "mimetype": "text/x-python",
   "name": "python",
   "nbconvert_exporter": "python",
   "pygments_lexer": "ipython3",
   "version": "3.6.5"
  },
  "vscode": {
   "interpreter": {
    "hash": "be593699e4b5f0724fb1f514d141f99396b59a696c0e992588703e9c8db4f8b1"
   }
  }
 },
 "nbformat": 4,
 "nbformat_minor": 2
}
