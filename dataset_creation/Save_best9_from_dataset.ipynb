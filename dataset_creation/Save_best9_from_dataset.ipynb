{
 "cells": [
  {
   "cell_type": "code",
   "execution_count": 1,
   "metadata": {},
   "outputs": [
    {
     "name": "stdout",
     "output_type": "stream",
     "text": [
      "\n",
      "WARNING: The TensorFlow contrib module will not be included in TensorFlow 2.0.\n",
      "For more information, please see:\n",
      "  * https://github.com/tensorflow/community/blob/master/rfcs/20180907-contrib-sunset.md\n",
      "  * https://github.com/tensorflow/addons\n",
      "If you depend on functionality not listed there, please file an issue.\n",
      "\n"
     ]
    }
   ],
   "source": [
    "import sys\n",
    "sys.path.insert(0, '../libraries')\n",
    "\n",
    "\n",
    "import random\n",
    "import numpy as np\n",
    "from collections import defaultdict\n",
    "import progressbar\n",
    "from utils import safe_mkdir\n",
    "from dataloader import load_dataset\n",
    "%reload_ext autoreload\n",
    "%autoreload 2\n",
    "\n"
   ]
  },
  {
   "cell_type": "code",
   "execution_count": 2,
   "metadata": {},
   "outputs": [],
   "source": [
    "directory='./dataset_light_best9/'\n",
    "safe_mkdir(directory)\n",
    "dataset_dir='./dataset'"
   ]
  },
  {
   "cell_type": "code",
   "execution_count": 3,
   "metadata": {},
   "outputs": [
    {
     "name": "stdout",
     "output_type": "stream",
     "text": [
      "Saving 0\n",
      "Saving 1\n",
      "Saving 2\n",
      "Saving 3\n",
      "Saving 4\n",
      "Saving 0\n",
      "Saving 1\n",
      "Saving 2\n",
      "Saving 3\n",
      "Saving 4\n"
     ]
    }
   ],
   "source": [
    "n_chunks=5\n",
    "for band in ['NIR','RED']:\n",
    "\n",
    "    gen=load_dataset(dataset_dir,n_chunks,band,num_images=9,how='best')\n",
    "    \n",
    "    for i in range(n_chunks):\n",
    "        dataset_dict=next(gen)\n",
    "        \n",
    "        batch_training=dataset_dict['training']\n",
    "        batch_training_mask=dataset_dict['training_mask']\n",
    "        batch_training_y=dataset_dict['training_y']\n",
    "        batch_mask_train_y=dataset_dict['training_mask_y']\n",
    "        shifts=dataset_dict['shifts']\n",
    "        \n",
    "        batch_validation=dataset_dict['validation']\n",
    "        batch_validation_mask=dataset_dict['validation_mask']\n",
    "        batch_validation_y=dataset_dict['validation_y']\n",
    "        batch_mask_valid_y=dataset_dict['validation_mask_y']\n",
    "        \n",
    "        shifts_valid=dataset_dict['shifts_valid']\n",
    "        norm_validation=dataset_dict['norm_validation']\n",
    "        \n",
    "        batch_training_mask=batch_training_mask.astype('bool')\n",
    "        batch_mask_train_y=batch_mask_train_y.astype('bool')\n",
    "        batch_validation_mask=batch_validation_mask.astype('bool')\n",
    "        batch_mask_valid_y=batch_mask_valid_y.astype('bool')\n",
    "        \n",
    "        \n",
    "        np.save(directory+'{0}_dataset_{1}_patch_LR_best9.npy'.format(i,band),batch_training,allow_pickle=True)\n",
    "        np.save(directory+'{0}_dataset_{1}_patch_HR_best9.npy'.format(i,band),batch_training_y,allow_pickle=True)\n",
    "        np.save(directory+'{0}_dataset_{1}_patch_mask_LR_best9.npy'.format(i,band),batch_training_mask,allow_pickle=True)\n",
    "        np.save(directory+'{0}_dataset_{1}_patch_mask_HR_best9.npy'.format(i,band),batch_mask_train_y,allow_pickle=True)\n",
    "        np.save(directory+'{0}_shifts_patch_{1}_best9.npy'.format(i,band),shifts,allow_pickle=True)\n",
    "        \n",
    "        print('Saving {0}'.format(i))\n",
    "        if i==0:\n",
    "            np.save(directory+'dataset_{0}_LR_valid_best9.npy'.format(band),batch_validation,allow_pickle=True)\n",
    "            np.save(directory+'dataset_{0}_HR_valid_best9.npy'.format(band),batch_validation_y,allow_pickle=True)\n",
    "            np.save(directory+'dataset_{0}_mask_LR_valid_best9.npy'.format(band),batch_validation_mask,allow_pickle=True)\n",
    "            np.save(directory+'dataset_{0}_mask_HR_valid_best9.npy'.format(band),batch_mask_valid_y,allow_pickle=True)\n",
    "            \n",
    "            #normalization\n",
    "            np.save(directory+'norm_'+band+'.npy',norm_validation,allow_pickle=True)\n",
    "            \n",
    "            np.save(directory+'shifts_valid_{0}_best9.npy'.format(band),shifts_valid,allow_pickle=True)\n",
    "            "
   ]
  },
  {
   "cell_type": "code",
   "execution_count": null,
   "metadata": {},
   "outputs": [],
   "source": []
  }
 ],
 "metadata": {
  "kernelspec": {
   "display_name": "Python 3.6.5 64-bit ('3.6.5')",
   "language": "python",
   "name": "python3"
  },
  "language_info": {
   "codemirror_mode": {
    "name": "ipython",
    "version": 3
   },
   "file_extension": ".py",
   "mimetype": "text/x-python",
   "name": "python",
   "nbconvert_exporter": "python",
   "pygments_lexer": "ipython3",
   "version": "3.6.5"
  },
  "vscode": {
   "interpreter": {
    "hash": "be593699e4b5f0724fb1f514d141f99396b59a696c0e992588703e9c8db4f8b1"
   }
  }
 },
 "nbformat": 4,
 "nbformat_minor": 2
}
