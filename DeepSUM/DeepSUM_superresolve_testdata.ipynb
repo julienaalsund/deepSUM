{
 "cells": [
  {
   "cell_type": "markdown",
   "metadata": {},
   "source": [
    "## Import Libraries"
   ]
  },
  {
   "cell_type": "code",
   "execution_count": 1,
   "metadata": {},
   "outputs": [
    {
     "name": "stdout",
     "output_type": "stream",
     "text": [
      "\n",
      "WARNING: The TensorFlow contrib module will not be included in TensorFlow 2.0.\n",
      "For more information, please see:\n",
      "  * https://github.com/tensorflow/community/blob/master/rfcs/20180907-contrib-sunset.md\n",
      "  * https://github.com/tensorflow/addons\n",
      "If you depend on functionality not listed there, please file an issue.\n",
      "\n"
     ]
    }
   ],
   "source": [
    "#!/usr/bin/env python\n",
    "# coding: utf-8\n",
    "import sys\n",
    "import tensorflow as tf\n",
    "from collections import defaultdict\n",
    "\n",
    "from DeepSUM_network import SR_network\n",
    "\n",
    "import json\n",
    "\n",
    "\n",
    "%reload_ext autoreload\n",
    "%autoreload 2\n"
   ]
  },
  {
   "cell_type": "markdown",
   "metadata": {},
   "source": [
    "# Build the model and the computational graph"
   ]
  },
  {
   "cell_type": "code",
   "execution_count": 2,
   "metadata": {
    "scrolled": false
   },
   "outputs": [
    {
     "name": "stdout",
     "output_type": "stream",
     "text": [
      "WARNING:tensorflow:From /home/valsesia/Downloads/deepsum/tensorflow-python3/lib/python3.6/site-packages/tensorflow/python/framework/op_def_library.py:263: colocate_with (from tensorflow.python.framework.ops) is deprecated and will be removed in a future version.\n",
      "Instructions for updating:\n",
      "Colocations handled automatically by placer.\n",
      "WARNING:tensorflow:From /home/valsesia/Downloads/deepsum/tensorflow-python3/lib/python3.6/site-packages/tensorflow/python/ops/math_ops.py:3066: to_int32 (from tensorflow.python.ops.math_ops) is deprecated and will be removed in a future version.\n",
      "Instructions for updating:\n",
      "Use tf.cast instead.\n",
      "WARNING:tensorflow:From /home/valsesia/Downloads/deepsum/tensorflow-python3/lib/python3.6/site-packages/tensorflow/python/ops/math_grad.py:102: div (from tensorflow.python.ops.math_ops) is deprecated and will be removed in a future version.\n",
      "Instructions for updating:\n",
      "Deprecated in favor of operator or tf.math.divide.\n"
     ]
    }
   ],
   "source": [
    "config_file='./config_files/DeepSUM_config_NIR.json'\n",
    "with open(config_file) as json_data_file:\n",
    "    data = json.load(json_data_file)\n",
    "\n",
    "        \n",
    "tf.reset_default_graph()\n",
    "config=defaultdict()\n",
    "config['lr']= data['hyperparameters']['lr']\n",
    "config['batch_size'] =  data['hyperparameters']['batch_size']\n",
    "config['base_dir'] = data['others']['base_dir']\n",
    "config['skip_step'] = data['others']['skip_step']\n",
    "config['channels'] = data['others']['channels']\n",
    "config['T_in'] = data['others']['T_in'] \n",
    "config['R'] = data['others']['R']\n",
    "config['full'] = data['others']['full']\n",
    "config['patch_size_HR'] = data['others']['patch_size_HR']\n",
    "config['patch_size_LR'] = data['others']['patch_size_LR']\n",
    "config['border'] = data['others']['border']\n",
    "config['spectral_band']=data['others']['spectral_band']\n",
    "config['RegNet_pretrain_dir']=data['others']['RegNet_pretrain_dir']\n",
    "config['SISRNet_pretrain_dir']=data['others']['SISRNet_pretrain_dir']\n",
    "config['dataset_path']=data['others']['dataset_path']\n",
    "config['n_chunks']=data['others']['n_chunks']\n",
    "config['mu']=data['others']['mu']\n",
    "config['sigma']=data['others']['sigma']\n",
    "config['sigma_rescaled']=data['others']['sigma_rescaled']\n",
    "\n",
    "config['tensorboard_dir'] = 'DeepSUM_'+config['spectral_band']+'_lr_'+str(config['lr'])+'_bsize_'+str(config['batch_size'])\n",
    "\n",
    "model = SR_network(config)\n",
    "\n",
    "model.build()\n",
    "    \n",
    "    \n",
    "   "
   ]
  },
  {
   "cell_type": "markdown",
   "metadata": {},
   "source": [
    "### Reconstruct HR images from testset"
   ]
  },
  {
   "cell_type": "code",
   "execution_count": 3,
   "metadata": {},
   "outputs": [],
   "source": [
    "dir_test='../dataset_creation/testset/'"
   ]
  },
  {
   "cell_type": "code",
   "execution_count": 4,
   "metadata": {
    "scrolled": true
   },
   "outputs": [
    {
     "name": "stdout",
     "output_type": "stream",
     "text": [
      "WARNING:tensorflow:From /home/valsesia/Downloads/deepsum/tensorflow-python3/lib/python3.6/site-packages/tensorflow/python/training/saver.py:1266: checkpoint_exists (from tensorflow.python.training.checkpoint_management) is deprecated and will be removed in a future version.\n",
      "Instructions for updating:\n",
      "Use standard file APIs to check for files with this prefix.\n",
      "INFO:tensorflow:Restoring parameters from checkpoints/DeepSUM_NIR_lr_5e-06_bsize_8/model.ckpt-968999\n"
     ]
    },
    {
     "name": "stderr",
     "output_type": "stream",
     "text": [
      "/home/valsesia/Downloads/deepsum/Superresolution/DeepSUM/DeepSUM_network.py:1020: ComplexWarning: Casting complex values to real discards the imaginary part\n",
      "  SR_images[m]=SR_image\n"
     ]
    },
    {
     "name": "stdout",
     "output_type": "stream",
     "text": [
      "Image number 0\n",
      "Image number 1\n",
      "Image number 2\n",
      "Image number 3\n",
      "Image number 4\n",
      "Image number 5\n",
      "Image number 6\n",
      "Image number 7\n",
      "Image number 8\n",
      "Image number 9\n",
      "Image number 10\n",
      "Image number 11\n",
      "Image number 12\n",
      "Image number 13\n",
      "Image number 14\n",
      "Image number 15\n",
      "Image number 16\n",
      "Image number 17\n",
      "Image number 18\n",
      "Image number 19\n",
      "Image number 20\n",
      "Image number 21\n",
      "Image number 22\n",
      "Image number 23\n",
      "Image number 24\n",
      "Image number 25\n",
      "Image number 26\n",
      "Image number 27\n",
      "Image number 28\n",
      "Image number 29\n",
      "Image number 30\n",
      "Image number 31\n",
      "Image number 32\n",
      "Image number 33\n",
      "Image number 34\n",
      "Image number 35\n",
      "Image number 36\n",
      "Image number 37\n",
      "Image number 38\n",
      "Image number 39\n",
      "Image number 40\n",
      "Image number 41\n",
      "Image number 42\n",
      "Image number 43\n",
      "Image number 44\n",
      "Image number 45\n",
      "Image number 46\n",
      "Image number 47\n",
      "Image number 48\n",
      "Image number 49\n",
      "Image number 50\n",
      "Image number 51\n",
      "Image number 52\n",
      "Image number 53\n",
      "Image number 54\n",
      "Image number 55\n",
      "Image number 56\n",
      "Image number 57\n",
      "Image number 58\n",
      "Image number 59\n",
      "Image number 60\n",
      "Image number 61\n",
      "Image number 62\n",
      "Image number 63\n",
      "Image number 64\n",
      "Image number 65\n",
      "Image number 66\n",
      "Image number 67\n",
      "Image number 68\n",
      "Image number 69\n",
      "Image number 70\n",
      "Image number 71\n",
      "Image number 72\n",
      "Image number 73\n",
      "Image number 74\n",
      "Image number 75\n",
      "Image number 76\n",
      "Image number 77\n",
      "Image number 78\n",
      "Image number 79\n",
      "Image number 80\n",
      "Image number 81\n",
      "Image number 82\n",
      "Image number 83\n",
      "Image number 84\n",
      "Image number 85\n",
      "Image number 86\n",
      "Image number 87\n",
      "Image number 88\n",
      "Image number 89\n",
      "Image number 90\n",
      "Image number 91\n",
      "Image number 92\n",
      "Image number 93\n",
      "Image number 94\n",
      "Image number 95\n",
      "Image number 96\n",
      "Image number 97\n",
      "Image number 98\n",
      "Image number 99\n",
      "Image number 100\n",
      "Image number 101\n",
      "Image number 102\n",
      "Image number 103\n",
      "Image number 104\n",
      "Image number 105\n",
      "Image number 106\n",
      "Image number 107\n",
      "Image number 108\n",
      "Image number 109\n",
      "Image number 110\n",
      "Image number 111\n",
      "Image number 112\n",
      "Image number 113\n",
      "Image number 114\n",
      "Image number 115\n",
      "Image number 116\n",
      "Image number 117\n",
      "Image number 118\n",
      "Image number 119\n",
      "Image number 120\n",
      "Image number 121\n",
      "Image number 122\n",
      "Image number 123\n",
      "Image number 124\n",
      "Image number 125\n",
      "Image number 126\n",
      "Image number 127\n",
      "Image number 128\n",
      "Image number 129\n",
      "Image number 130\n",
      "Image number 131\n",
      "Image number 132\n",
      "Image number 133\n",
      "Image number 134\n",
      "Image number 135\n",
      "Image number 136\n",
      "Image number 137\n",
      "Image number 138\n",
      "Image number 139\n",
      "Image number 140\n",
      "Image number 141\n",
      "Image number 142\n",
      "Image number 143\n"
     ]
    }
   ],
   "source": [
    "n_slide=0\n",
    "super_resolved_images=model.predict_test(dir_test,n_slide=n_slide)"
   ]
  },
  {
   "cell_type": "markdown",
   "metadata": {},
   "source": [
    "## Plot SR images"
   ]
  },
  {
   "cell_type": "code",
   "execution_count": 5,
   "metadata": {},
   "outputs": [
    {
     "data": {
      "text/plain": [
       "<Figure size 800x800 with 1 Axes>"
      ]
     },
     "metadata": {},
     "output_type": "display_data"
    }
   ],
   "source": [
    "import matplotlib.pyplot as plt\n",
    "plt.figure(figsize=[8,8])\n",
    "plt.imshow(super_resolved_images[0,0,:,:,0], cmap = 'gray', interpolation = 'none')\n",
    "plt.xticks([]), plt.yticks([])  # to hide tick values on X and Y axis\n",
    "plt.show()"
   ]
  },
  {
   "cell_type": "code",
   "execution_count": null,
   "metadata": {},
   "outputs": [],
   "source": []
  }
 ],
 "metadata": {
  "kernelspec": {
   "display_name": "Python 3.6.5 64-bit ('3.6.5')",
   "language": "python",
   "name": "python3"
  },
  "language_info": {
   "codemirror_mode": {
    "name": "ipython",
    "version": 3
   },
   "file_extension": ".py",
   "mimetype": "text/x-python",
   "name": "python",
   "nbconvert_exporter": "python",
   "pygments_lexer": "ipython3",
   "version": "3.6.5"
  },
  "vscode": {
   "interpreter": {
    "hash": "be593699e4b5f0724fb1f514d141f99396b59a696c0e992588703e9c8db4f8b1"
   }
  }
 },
 "nbformat": 4,
 "nbformat_minor": 2
}
